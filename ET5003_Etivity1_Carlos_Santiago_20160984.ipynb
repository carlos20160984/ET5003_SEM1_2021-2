{
  "nbformat": 4,
  "nbformat_minor": 0,
  "metadata": {
    "colab": {
      "name": "ET5003_Etivity1_Carlos_Santiago_20160984.ipynb",
      "provenance": [],
      "collapsed_sections": [
        "jxK1_8f1dvrc",
        "aOroY1QoP8DY"
      ]
    },
    "kernelspec": {
      "name": "python3",
      "display_name": "Python 3"
    },
    "language_info": {
      "name": "python"
    }
  },
  "cells": [
    {
      "cell_type": "markdown",
      "metadata": {
        "id": "jxK1_8f1dvrc"
      },
      "source": [
        "<div>\n",
        "<img src=\"https://drive.google.com/uc?export=view&id=1vK33e_EqaHgBHcbRV_m38hx6IkG0blK_\" width=\"350\"/>\n",
        "</div> \n",
        "\n",
        "#**Artificial Intelligence - MSc**\n",
        "ET5003 - MACHINE LEARNING APPLICATIONS \n",
        "\n",
        "###Instructor: Enrique Naredo\n",
        "###ET5003_Etivity-1"
      ]
    },
    {
      "cell_type": "code",
      "metadata": {
        "id": "LqXD_IwUQuBF",
        "cellView": "form"
      },
      "source": [
        "#@title Current Date\n",
        "Today = '2021-09-18' #@param {type:\"date\"}\n"
      ],
      "execution_count": 7,
      "outputs": []
    },
    {
      "cell_type": "markdown",
      "metadata": {
        "id": "vH105g2IuuQN"
      },
      "source": [
        "# **Introduction**"
      ]
    },
    {
      "cell_type": "code",
      "metadata": {
        "id": "uzDKau31OjVO"
      },
      "source": [
        "#@markdown ---\n",
        "#@markdown ### Enter your details here:\n",
        "Student_ID = \"20160984\" #@param {type:\"string\"}\n",
        "Student_full_name = \"Carlos Santiago\" #@param {type:\"string\"}\n",
        "#@markdown ---"
      ],
      "execution_count": 23,
      "outputs": []
    },
    {
      "cell_type": "code",
      "metadata": {
        "id": "r39xGZckTpKx"
      },
      "source": [
        "#@title Notebook information\n",
        "Notebook_type = 'Etivity' #@param [\"Example\", \"Lab\", \"Practice\", \"Etivity\", \"Assignment\", \"Exam\"]\n",
        "Version = 'Draft' #@param [\"Draft\", \"Final\"] {type:\"raw\"}\n",
        "Submission = True #@param {type:\"boolean\"}"
      ],
      "execution_count": 24,
      "outputs": []
    },
    {
      "cell_type": "markdown",
      "metadata": {
        "id": "-EA7rXqOvehA"
      },
      "source": [
        "<b>Explanation of the problem</b>"
      ]
    },
    {
      "cell_type": "markdown",
      "metadata": {
        "id": "et0Fs6zvv3ks"
      },
      "source": [
        "The first goal is to solve a classification problem of digits 0 to 9 from MNIST dataset. The sample data contains 10 classes of images of 28x28 pixels each.\n",
        "\n",
        "The classification must be solved with **General-recipe multinomial logist regression** and **Bayesian multinomial logistic regression**. \n",
        "\n",
        "The main advantage of **Bayesian multinomial LR** is that it provides a confidence interval (or uncertainty) of the value, which is closer to reality. **General-recipe LR**, on the other hand, gives a single point.\n",
        "\n",
        "The second goal is to use the posterior uncertainty to detect the digits that are harder to classify and remove them from the dataset. Then we re-run the general-receipe LR and compare the results. \n",
        "\n",
        "\n"
      ]
    },
    {
      "cell_type": "markdown",
      "metadata": {
        "id": "80m304lUefG4"
      },
      "source": [
        "## MNIST dataset"
      ]
    },
    {
      "cell_type": "markdown",
      "metadata": {
        "id": "Bs8mHGcidHSa"
      },
      "source": [
        "\n",
        "\n",
        "The MNIST database  is a dataset of handwritten digits that has been and is extensively used in machine learning. There are $10$ classes, each image is $28\\times28$ pixels and, therefore, each input is $x_i\\in\\mathbb{R}^{784}$. "
      ]
    },
    {
      "cell_type": "markdown",
      "metadata": {
        "id": "ailycCq5epj2"
      },
      "source": [
        "## Task"
      ]
    },
    {
      "cell_type": "markdown",
      "metadata": {
        "id": "a-yNAxhUemjM"
      },
      "source": [
        "You have to extend the code to manage any arbitrary number of classes, in other words you have to implement a general-recipe multinomial logistic classifier and Bayesian multinomial logistic classifier.\n",
        "\n",
        "You must then select  3 digits at random and perform  the following task. \n",
        "\n",
        "1. Your goal is to use Bayesian multinomial logistic regression (as in the road-sign notebook) to solve this classification problem. \n",
        "\n",
        "2. You can downsize the training dataset (e.g., 40% training and 60%testing) if the computation of the posterior takes too much time in your computer.\n",
        "\n",
        "3. Use the posterior uncertainty to detect the instances (digits) in the test set that are hard to classify and remove them from the test-set.\n",
        "\n",
        "4. Then you need to compute again the accuracy of the general-recipe logistic regression on the remaining (non-difficult) instances and comment on the result.\n",
        "\n",
        "5. In practice, the task is to use uncertainty estimation to detect the difficult instances in the test-set. This is equivalent to refuse to classify all high-uncertainty instances or, in other words, when we are uncertain we say \"I don't know\" and we do not return any class. In this way, you will learn how uncertainty can be used to make safer decisions, by detecting the instances that are difficult to classify.\n"
      ]
    },
    {
      "cell_type": "markdown",
      "metadata": {
        "id": "nMRKRTQZe5fW"
      },
      "source": [
        "## Libraries"
      ]
    },
    {
      "cell_type": "code",
      "metadata": {
        "id": "IxusAui7AX_f"
      },
      "source": [
        "# Suppressing Warnings:\n",
        "import warnings\n",
        "warnings.filterwarnings(\"ignore\")"
      ],
      "execution_count": 25,
      "outputs": []
    },
    {
      "cell_type": "code",
      "metadata": {
        "id": "MQOfGMQpdHSb"
      },
      "source": [
        "# Import libraries\n",
        "from sklearn.linear_model import LogisticRegression\n",
        "from sklearn.metrics import accuracy_score\n",
        "from sklearn.model_selection import train_test_split\n",
        "import scipy.optimize as optimize\n",
        "from scipy.special import erf\n",
        "import pandas as pd\n",
        "import numpy as np\n",
        "import seaborn as sns\n",
        "from tqdm import tqdm\n",
        "from skimage.io import imread, imshow\n",
        "import matplotlib.image as mpimg\n",
        "import matplotlib.pyplot as plt\n",
        "import matplotlib\n",
        "%matplotlib inline\n",
        "import arviz as az\n",
        "from scipy.io import loadmat\n",
        "import pymc3 as pm\n",
        "import random\n",
        "from IPython.display import HTML\n",
        "import pickle\n",
        "import theano as tt\n",
        "import cv2\n",
        "from sklearn.utils import shuffle\n",
        "from skimage.color import rgb2gray"
      ],
      "execution_count": 26,
      "outputs": []
    },
    {
      "cell_type": "code",
      "metadata": {
        "id": "P5-qMSjpAQ-9"
      },
      "source": [
        "# Setting a seed:\n",
        "np.random.seed(123)"
      ],
      "execution_count": 27,
      "outputs": []
    },
    {
      "cell_type": "markdown",
      "metadata": {
        "id": "r4hSuwkUfVQb"
      },
      "source": [
        "## Dataset"
      ]
    },
    {
      "cell_type": "markdown",
      "metadata": {
        "id": "w99Pc66YdHSd"
      },
      "source": [
        "### Loading the MNIST dataset"
      ]
    },
    {
      "cell_type": "markdown",
      "metadata": {
        "id": "rHIeqUFZHGzw"
      },
      "source": [
        "COMMENT: The dataset of handwritten digits that has 10 classes of image of 28×28 pixels. Therefore, it inputn has 784 features."
      ]
    },
    {
      "cell_type": "code",
      "metadata": {
        "colab": {
          "base_uri": "https://localhost:8080/"
        },
        "id": "CYFWAbXVzynp",
        "outputId": "2e7b9206-b2d1-406c-f3b9-ead5b6a9ca35"
      },
      "source": [
        "from google.colab import drive\n",
        "drive.mount('/content/drive')"
      ],
      "execution_count": 28,
      "outputs": [
        {
          "output_type": "stream",
          "name": "stdout",
          "text": [
            "Drive already mounted at /content/drive; to attempt to forcibly remount, call drive.mount(\"/content/drive\", force_remount=True).\n"
          ]
        }
      ]
    },
    {
      "cell_type": "code",
      "metadata": {
        "id": "szMEBjKErNGB"
      },
      "source": [
        "Path = '/content/drive/MyDrive/etivity-1/'\n",
        "\n",
        "# MNIST Data\n",
        "train_data = Path + 'mnist_train.csv'\n",
        "test_data = Path + 'mnist_test.csv'\n",
        "\n",
        "# train data\n",
        "df_train = pd.read_csv(train_data)\n",
        "X_train = df_train.drop(\"label\",axis=1).values\n",
        "y_train = df_train.label.values\n",
        "\n",
        "# test data\n",
        "df_test = pd.read_csv(test_data)\n",
        "X_test = df_test.drop(\"label\",axis=1).values\n",
        "y_test = df_test.label.values\n"
      ],
      "execution_count": 29,
      "outputs": []
    },
    {
      "cell_type": "code",
      "metadata": {
        "colab": {
          "base_uri": "https://localhost:8080/"
        },
        "id": "pw3fzfhh3ckQ",
        "outputId": "33ecea89-3d3c-48ce-a749-5790ba3f800c"
      },
      "source": [
        "# Print shapes of the data\n",
        "\n",
        "print (\"SHAPE OF THE DATA\")\n",
        "print(\"Training set: \", X_train.shape)\n",
        "print(\"Testing set: \", X_test.shape)"
      ],
      "execution_count": 30,
      "outputs": [
        {
          "output_type": "stream",
          "name": "stdout",
          "text": [
            "SHAPE OF THE DATA\n",
            "Training set:  (60000, 784)\n",
            "Testing set:  (10000, 784)\n"
          ]
        }
      ]
    },
    {
      "cell_type": "code",
      "metadata": {
        "id": "W324KlXrDNPS"
      },
      "source": [
        "# plot digits\n",
        "def plot_digits(instances, images_per_row=5, **options):\n",
        "    size = 28\n",
        "    images_per_row = min(len(instances), images_per_row)\n",
        "    images = [instance.reshape(size,size) for instance in instances]\n",
        "    n_rows = (len(instances) - 1) // images_per_row + 1\n",
        "    row_images = []\n",
        "    n_empty = n_rows * images_per_row - len(instances)\n",
        "    images.append(np.zeros((size, size * n_empty)))\n",
        "    for row in range(n_rows):\n",
        "        rimages = images[row * images_per_row : (row + 1) * images_per_row]\n",
        "        row_images.append(np.concatenate(rimages, axis=1))\n",
        "    image = np.concatenate(row_images, axis=0)\n",
        "    plt.imshow(image,  cmap='gist_yarg', **options)\n",
        "    plt.axis(\"off\")"
      ],
      "execution_count": 31,
      "outputs": []
    },
    {
      "cell_type": "code",
      "metadata": {
        "colab": {
          "base_uri": "https://localhost:8080/",
          "height": 202
        },
        "id": "wb1XiPVRLKDt",
        "outputId": "d66732ea-0ff1-4df2-a4bf-eefa3c136f7a"
      },
      "source": [
        "# initialize a null list for distinct digits\n",
        "\n",
        "distinct_labels = []\n",
        "sample_vector = []\n",
        "for x in range(len(y_train)):\n",
        "  if y_train[x] not in distinct_labels: \n",
        "    distinct_labels.append(y_train[x])\n",
        "    sample_vector.append(X_train[x])\n",
        "\n",
        "Z = [x for _,x in sorted(zip(distinct_labels,sample_vector))] # Sort sample vector based on ordered labels\n",
        "\n",
        "# Plotting 'original' image\n",
        "plt.figure(figsize=(6,6))\n",
        "plot_digits(Z ,images_per_row=5)\n",
        "plt.title(\"One sample of each handwritten digit\", fontsize=18)"
      ],
      "execution_count": 32,
      "outputs": [
        {
          "output_type": "execute_result",
          "data": {
            "text/plain": [
              "Text(0.5, 1.0, 'One sample of each handwritten digit')"
            ]
          },
          "metadata": {},
          "execution_count": 32
        },
        {
          "output_type": "display_data",
          "data": {
            "image/png": "[encoded data removed]",
            "text/plain": [
              "<Figure size 432x432 with 1 Axes>"
            ]
          },
          "metadata": {
            "needs_background": "light"
          }
        }
      ]
    },
    {
      "cell_type": "markdown",
      "metadata": {
        "id": "_-jrTW5c22BA"
      },
      "source": [
        "COMMENT: All features in the dataset have the same importance and should have the same influence on the results. Therefore, we have to normalize the data to give all features the same range. In this case, we will set the range from 0 to 1.\n",
        "\n",
        "(Jaitley, 2018) has a good article on the importance of Data Normalization"
      ]
    },
    {
      "cell_type": "code",
      "metadata": {
        "colab": {
          "base_uri": "https://localhost:8080/"
        },
        "id": "O2ubJ_WoAqBh",
        "outputId": "c2647522-725b-4260-fb01-79aec984ea46"
      },
      "source": [
        "# Normalizing the Inputs:\n",
        "X_train = X_train/255\n",
        "X_test = X_test/255\n",
        "\n",
        "# Printing the new input range of values:\n",
        "minv = np.min(X_train)\n",
        "maxv = np.max(X_train)\n",
        "print(minv,maxv)"
      ],
      "execution_count": 33,
      "outputs": [
        {
          "output_type": "stream",
          "name": "stdout",
          "text": [
            "0.0 1.0\n"
          ]
        }
      ]
    },
    {
      "cell_type": "markdown",
      "metadata": {
        "id": "SR6HpkWndHSe"
      },
      "source": [
        "### Description of Data:"
      ]
    },
    {
      "cell_type": "code",
      "metadata": {
        "colab": {
          "base_uri": "https://localhost:8080/"
        },
        "id": "sibN1Vv1dHSf",
        "outputId": "1a8e591e-72e8-4f3a-86c7-8099d040473b"
      },
      "source": [
        "# Number of examples\n",
        "n_train =  len(X_train)\n",
        "n_test =  len(X_test)\n",
        "\n",
        "# Shape of an traffic sign image\n",
        "image_shape = X_train.shape[1]\n",
        "\n",
        "# unique classes/labels in the training dataset.\n",
        "alltotal = set(y_train)\n",
        "n_classes = len(alltotal)\n",
        "\n",
        "print(\"Number of Training examples =\", n_train)\n",
        "print(\"Number of Test examples =\", n_test)\n",
        "print(\"Image input shape =\", image_shape)\n",
        "print(\"Number of classes =\", n_classes)\n",
        "print(\"% Training set = \", n_train/(n_train+n_test))\n",
        "print(\"% Testing set = \", n_test/(n_train+n_test))"
      ],
      "execution_count": 34,
      "outputs": [
        {
          "output_type": "stream",
          "name": "stdout",
          "text": [
            "Number of Training examples = 60000\n",
            "Number of Test examples = 10000\n",
            "Image input shape = 784\n",
            "Number of classes = 10\n",
            "% Training set =  0.8571428571428571\n",
            "% Testing set =  0.14285714285714285\n"
          ]
        }
      ]
    },
    {
      "cell_type": "markdown",
      "metadata": {
        "id": "6HQDSvrRKZF6"
      },
      "source": [
        "### Class Distribution:"
      ]
    },
    {
      "cell_type": "code",
      "metadata": {
        "id": "XG8GdlpBKdCt",
        "colab": {
          "base_uri": "https://localhost:8080/",
          "height": 350
        },
        "outputId": "a0b12b9c-010e-43cd-f4c4-123f1c9ae0fc"
      },
      "source": [
        "fig, ax = plt.subplots(figsize=(8,5))\n",
        "ind = np.arange(n_classes)\n",
        "\n",
        "n, bins, patches = ax.hist(y_train, ec='black', align='mid')\n",
        "ax.set_xlabel('classes')\n",
        "ax.set_ylabel('counts')\n",
        "ax.set_title(r'Histogram of Digit images')\n",
        "plt.show()\n"
      ],
      "execution_count": 35,
      "outputs": [
        {
          "output_type": "display_data",
          "data": {
            "image/png": "[encoded data removed]",
            "text/plain": [
              "<Figure size 576x360 with 1 Axes>"
            ]
          },
          "metadata": {
            "needs_background": "light"
          }
        }
      ]
    },
    {
      "cell_type": "markdown",
      "metadata": {
        "id": "Z4Qhxg5X6FDl"
      },
      "source": [
        "COMMENT: The sample data has 60k training data and 10k testing data. <br>\n",
        "Training data accounts for 85.7% of the data set.<br>\n",
        "We can see from the *Histogram of Digit images* above that the sample data is well distributed across all 10 classes."
      ]
    },
    {
      "cell_type": "markdown",
      "metadata": {
        "id": "EyLWw3nsLCtk"
      },
      "source": [
        "## Downsampling"
      ]
    },
    {
      "cell_type": "markdown",
      "metadata": {
        "id": "2U1lFEwhLKBf"
      },
      "source": [
        "### Randomly selecting 3 of the 10 Digit Classes"
      ]
    },
    {
      "cell_type": "code",
      "metadata": {
        "id": "0EeRZZWdLRPT",
        "colab": {
          "base_uri": "https://localhost:8080/"
        },
        "outputId": "70e43266-f980-4d2d-a86b-87829039eb8a"
      },
      "source": [
        "# We select the number of Classes we want:\n",
        "n_classes = 3\n",
        "\n",
        "# Empty list to append the random digit classes we select:\n",
        "classes = []\n",
        "\n",
        "# We select 3 digits at random and make sure they are unique:\n",
        "while len(classes) < 3:\n",
        "    \n",
        "    # Randomly drawing a digit from 0-9:\n",
        "    num2choose = np.random.randint(0,10)\n",
        "\n",
        "    # Append the digit if it's not already in our list of classes:\n",
        "    if num2choose not in classes: \n",
        "        classes.append(num2choose)\n",
        "        \n",
        "        \n",
        "# Sorting the Classes smallest to largest    \n",
        "classes.sort()\n",
        "# print classes selected\n",
        "classes"
      ],
      "execution_count": 36,
      "outputs": [
        {
          "output_type": "execute_result",
          "data": {
            "text/plain": [
              "[1, 2, 6]"
            ]
          },
          "metadata": {},
          "execution_count": 36
        }
      ]
    },
    {
      "cell_type": "code",
      "metadata": {
        "id": "2M8R5NqKMB_M"
      },
      "source": [
        "# The number of instances we'll keep for each of our 3 digits:\n",
        "inst_class = 1500\n",
        "\n",
        "inputs=[]\n",
        "labels=[]\n",
        "# Loop to randomly sample the instances for each digit:\n",
        "for r in classes:\n",
        "    imgs = X_train[np.where(y_train==r)[0],:]\n",
        "    inputs.append(imgs[np.random.permutation(imgs.shape[0]),:][0:inst_class,:])\n",
        "    labels.append(np.ones(inst_class)*r)\n",
        "    \n",
        "# Shaping inputs and labels in the right format    \n",
        "X_train = np.vstack(inputs).astype(np.float64)\n",
        "y_train = np.hstack(labels)\n"
      ],
      "execution_count": 37,
      "outputs": []
    },
    {
      "cell_type": "markdown",
      "metadata": {
        "id": "_6-YHrQQMicy"
      },
      "source": [
        "New Classes Distribution"
      ]
    },
    {
      "cell_type": "code",
      "metadata": {
        "id": "RA300COaMxWm",
        "colab": {
          "base_uri": "https://localhost:8080/",
          "height": 350
        },
        "outputId": "2131235b-8878-4349-9a6f-3dad5de14d5f"
      },
      "source": [
        "# new histogram\n",
        "# Exactly same histogram of above\n",
        "\n",
        "fig, ax = plt.subplots(figsize=(8,5))\n",
        "ind = np.arange(n_classes)\n",
        "\n",
        "n, bins, patches = ax.hist(y_train, ec='black', align='mid')\n",
        "ax.set_xlabel('classes')\n",
        "ax.set_ylabel('counts')\n",
        "ax.set_title(r'Histogram of Digit images')\n",
        "plt.show()\n",
        "\n"
      ],
      "execution_count": 38,
      "outputs": [
        {
          "output_type": "display_data",
          "data": {
            "image/png": "[encoded data removed]",
            "text/plain": [
              "<Figure size 576x360 with 1 Axes>"
            ]
          },
          "metadata": {
            "needs_background": "light"
          }
        }
      ]
    },
    {
      "cell_type": "markdown",
      "metadata": {
        "id": "ADF-l2uEFq6u"
      },
      "source": [
        "COMMENT: We have now a training sample containing three classes only. Each class has 1,500 records, down from the original data set containining 5,800-6,800 instances of each digit (class). This will reduce the computational time."
      ]
    },
    {
      "cell_type": "markdown",
      "metadata": {
        "id": "2QgbdRl15xkz"
      },
      "source": [
        "### Plot training data"
      ]
    },
    {
      "cell_type": "code",
      "metadata": {
        "id": "zeEG-LGOM4fJ",
        "colab": {
          "base_uri": "https://localhost:8080/",
          "height": 243
        },
        "outputId": "4aeacce2-bfd1-4c79-f3d1-2aba16795b1c"
      },
      "source": [
        "# Show a few instances from each Digit:\n",
        "plt.figure(figsize=(8,8))\n",
        "\n",
        "# Selecting a few label indices from each of the 3 classes to show:\n",
        "\n",
        "randomlist = random.sample(range(0, len(X_train)), 90)  # Generate 90 images, 15 per now \n",
        "\n",
        "# Plotting 'original' image\n",
        "plot_digits(X_train[randomlist,:],images_per_row=15)\n",
        "plt.title(\"90 random digit images of \"+str(classes), fontsize=14)"
      ],
      "execution_count": 39,
      "outputs": [
        {
          "output_type": "execute_result",
          "data": {
            "text/plain": [
              "Text(0.5, 1.0, '90 random digit images of [1, 2, 6]')"
            ]
          },
          "metadata": {},
          "execution_count": 39
        },
        {
          "output_type": "display_data",
          "data": {
            "image/png": "[encoded data removed]",
            "text/plain": [
              "<Figure size 576x576 with 1 Axes>"
            ]
          },
          "metadata": {
            "needs_background": "light"
          }
        }
      ]
    },
    {
      "cell_type": "markdown",
      "metadata": {
        "id": "FsAOnOcNNG_V"
      },
      "source": [
        "###  Splitting the Training data into both Training and Validation Sets:\n",
        "\n",
        "- Although this is the Training set, we can still set aside some samples (for instance 20%) of the 1,500 instances we have for Model Validation purposes.\n",
        "\n",
        "\n",
        "- With that Validation Set, we can then select the amount of Uncertainty we are happy with from our Model to use out of sample on other unseen data.\n",
        "\n",
        "\n",
        "- We can then test out how well our decision performs on the Test Set that we put aside earlier."
      ]
    },
    {
      "cell_type": "code",
      "metadata": {
        "id": "YdsmyVAtPXNn"
      },
      "source": [
        "### Split tha dataset in training and validation sets\n",
        "# choose the fraction of your validation data from the training set\n",
        "w = 0.20\n",
        "X_train, X_val, y_train, y_val = train_test_split(X_train, y_train, test_size=w, random_state=0)\n",
        " \n",
        "# Shuffling the training instaces around to randomize the order of inputs to the model:\n",
        "X_train, y_train = shuffle(X_train, y_train)"
      ],
      "execution_count": 40,
      "outputs": []
    },
    {
      "cell_type": "code",
      "metadata": {
        "id": "qXwJwP0iPxhi",
        "colab": {
          "base_uri": "https://localhost:8080/"
        },
        "outputId": "a796caec-c1fe-4ebf-cd61-2140612ee4fe"
      },
      "source": [
        "# print shape of your validation and training set\n",
        "\n",
        "print(\"SHAPES OF TRAINING AND VALIDATION SETS\\n\")\n",
        "print(\"Shape of X training set: \",X_train.shape)\n",
        "print(\"Shape of X validation set: \",X_val.shape)\n",
        "print(\"Shape of Y training set: \",y_train.shape)\n",
        "print(\"Shape of Y validation set: \",y_val.shape)\n"
      ],
      "execution_count": 41,
      "outputs": [
        {
          "output_type": "stream",
          "name": "stdout",
          "text": [
            "SHAPES OF TRAINING AND VALIDATION SETS\n",
            "\n",
            "Shape of X training set:  (3600, 784)\n",
            "Shape of X validation set:  (900, 784)\n",
            "Shape of Y training set:  (3600,)\n",
            "Shape of Y validation set:  (900,)\n"
          ]
        }
      ]
    },
    {
      "cell_type": "markdown",
      "metadata": {
        "id": "aOroY1QoP8DY"
      },
      "source": [
        "### Encoding the Class labels for the Probabilistic ML Model:\n",
        "\n",
        "This is an example:\n",
        "\n",
        "- **[1,0,0]** for first digit\n",
        "- **[0,1,0]** for second digit\n",
        "- **[0,0,1]** for third digit"
      ]
    },
    {
      "cell_type": "markdown",
      "metadata": {
        "id": "rjUaqWTqQIcp"
      },
      "source": [
        "### General-Recipe ML"
      ]
    },
    {
      "cell_type": "code",
      "metadata": {
        "id": "QzgdivxfQNv5",
        "colab": {
          "base_uri": "https://localhost:8080/"
        },
        "outputId": "4bdc8898-9c43-4449-f772-4663d5fb15fd"
      },
      "source": [
        "# model\n",
        "model_log = LogisticRegression(random_state=0, max_iter=2000, C=100, solver='lbfgs', multi_class='multinomial').fit(X_train, y_train)\n",
        "\n",
        "# Classification:\n",
        "y_pred_log = model_log.predict(X_val)\n",
        "y_pred_logi_prob = model_log.predict_proba(X_val)\n",
        "\n",
        "# Maybe taking the maximum probability \n",
        "prob_classmax = np.max(y_pred_logi_prob,axis=1)\n",
        "# in any of the classes for each observation\n",
        "\n",
        "# Categories\n",
        "classes = model_log.classes_\n",
        "print(\"Input data are classified into three categories:\",classes)\n",
        "\n",
        "# Computing the Accuracy:\n",
        "print(\"Accuracy=\", accuracy_score(y_pred_log,y_val))\n",
        "print(\"Misclassifications\", len(prob_classmax[y_pred_log!=y_val]),\"out of\",len(X_val),\"instances\")\n"
      ],
      "execution_count": 42,
      "outputs": [
        {
          "output_type": "stream",
          "name": "stdout",
          "text": [
            "Input data are classified into three categories: [1. 2. 6.]\n",
            "Accuracy= 0.9766666666666667\n",
            "Misclassifications 21 out of 900 instances\n"
          ]
        }
      ]
    },
    {
      "cell_type": "markdown",
      "metadata": {
        "id": "DqLoSMljyv3_"
      },
      "source": [
        "### **Hardest and Easiest images to classify**"
      ]
    },
    {
      "cell_type": "code",
      "metadata": {
        "colab": {
          "base_uri": "https://localhost:8080/",
          "height": 244
        },
        "id": "cU8es-e1yeqi",
        "outputId": "b5c06cf1-aac2-4f05-8178-7d4fd7841517"
      },
      "source": [
        "#Plot image hardest to recognise\n",
        "\n",
        "hardest_label=int(y_train[np.array([np.argmin(prob_classmax)])])\n",
        "plt.figure(figsize=(3,3))\n",
        "plot_digits(X_train[np.array([np.argmin(prob_classmax)]),:])\n",
        "plt.title(\"Hardest image to classify\\nLabel: \" + str(hardest_label), fontsize=14)"
      ],
      "execution_count": 43,
      "outputs": [
        {
          "output_type": "execute_result",
          "data": {
            "text/plain": [
              "Text(0.5, 1.0, 'Hardest image to classify\\nLabel: 2')"
            ]
          },
          "metadata": {},
          "execution_count": 43
        },
        {
          "output_type": "display_data",
          "data": {
            "image/png": "[encoded data removed]",
            "text/plain": [
              "<Figure size 216x216 with 1 Axes>"
            ]
          },
          "metadata": {
            "needs_background": "light"
          }
        }
      ]
    },
    {
      "cell_type": "code",
      "metadata": {
        "colab": {
          "base_uri": "https://localhost:8080/",
          "height": 244
        },
        "id": "tXay8e-Tyn2L",
        "outputId": "d03ce2fa-cce1-4087-bf2a-1bf8264a837c"
      },
      "source": [
        "#Plot image easiest to recognise\n",
        "easiest_label= int(y_train[np.array([np.argmax(prob_classmax)])])\n",
        "plt.figure(figsize=(3,3))\n",
        "plot_digits(X_train[np.array([np.argmax(prob_classmax)]),:])\n",
        "plt.title(\"Easiest image to classify\\nLabel: \" + str(easiest_label), fontsize=14)"
      ],
      "execution_count": 44,
      "outputs": [
        {
          "output_type": "execute_result",
          "data": {
            "text/plain": [
              "Text(0.5, 1.0, 'Easiest image to classify\\nLabel: 6')"
            ]
          },
          "metadata": {},
          "execution_count": 44
        },
        {
          "output_type": "display_data",
          "data": {
            "image/png": "[encoded data removed]",
            "text/plain": [
              "<Figure size 216x216 with 1 Axes>"
            ]
          },
          "metadata": {
            "needs_background": "light"
          }
        }
      ]
    },
    {
      "cell_type": "markdown",
      "metadata": {
        "id": "k3PiDUNseERu"
      },
      "source": [
        "### Model Performance"
      ]
    },
    {
      "cell_type": "markdown",
      "metadata": {
        "id": "jlLojYV5kVby"
      },
      "source": [
        "Classification evaluation is nicely explained in the blog *How to Use ROC Curves and Precision-Recall Curves for Classification in Python*\n",
        "\n",
        "Main metrics:\n",
        "\n",
        "**Precision** = True Positives / (True Positives + False Positives)\n",
        "\n",
        "**Recall** = True Positives / (True Positives + False Negatives)\n",
        "\n",
        "**F1-score** = Calculates the harmonic mean of the precision and recall\n",
        "\n",
        "**Support** = actual occurrences of the class in the specified dataset\n",
        "\n",
        "The blog Understanding a Classification Report For Your Machine Learning Model\n",
        "(Kohli, 2019) explains the **classification report** in details.\n",
        "\n",
        "\n",
        "The below section evaluates the performance of the classifier on each individual class using classification report from *sklearn*"
      ]
    },
    {
      "cell_type": "code",
      "metadata": {
        "colab": {
          "base_uri": "https://localhost:8080/"
        },
        "id": "ZkxYX_M2eJ6C",
        "outputId": "aa11cdd7-7252-459f-feef-7472b49a2b66"
      },
      "source": [
        "from sklearn.metrics import classification_report\n",
        "from sklearn.metrics import accuracy_score\n",
        "\n",
        "y_true = y_val\n",
        "y_pred = y_pred_log\n",
        "\n",
        "target_names = []\n",
        "for x in classes:\n",
        "  target_names.append(\"digit \"+str(int(x)))\n",
        "\n",
        "print(classification_report(y_true, y_pred, target_names=target_names, digits=4))\n"
      ],
      "execution_count": 45,
      "outputs": [
        {
          "output_type": "stream",
          "name": "stdout",
          "text": [
            "              precision    recall  f1-score   support\n",
            "\n",
            "     digit 1     0.9834    0.9867    0.9851       301\n",
            "     digit 2     0.9736    0.9578    0.9656       308\n",
            "     digit 6     0.9729    0.9863    0.9795       291\n",
            "\n",
            "    accuracy                         0.9767       900\n",
            "   macro avg     0.9766    0.9769    0.9767       900\n",
            "weighted avg     0.9767    0.9767    0.9766       900\n",
            "\n"
          ]
        }
      ]
    },
    {
      "cell_type": "markdown",
      "metadata": {
        "id": "3uQG6JsOQxH5"
      },
      "source": [
        "### Probabilistic Multinomial Logistic Regression:"
      ]
    },
    {
      "cell_type": "markdown",
      "metadata": {
        "id": "irlmUNw7Q5YL"
      },
      "source": [
        "The Multinomial Logistic Regression has some parameters:\n",
        "\n",
        "- $\\alpha$, which is the intercept term:\n",
        "\n",
        "- $\\beta$, which is a vector of coefficients which give a weighting to the importance of each input feature:\n"
      ]
    },
    {
      "cell_type": "code",
      "metadata": {
        "id": "1o7mbKWmRhz5"
      },
      "source": [
        "import sklearn.preprocessing\n",
        "## We use LabelBinarizer to transfor classes into counts\n",
        "# neg_label=0, pos_label=1 \n",
        "y_2_bin = sklearn.preprocessing.LabelBinarizer().fit_transform(y_train.reshape(-1,1))\n",
        "nf = X_train.shape[1]\n",
        "# number of classes\n",
        "nc = len(classes)\n",
        "# floatX = float32\n",
        "floatX = tt.config.floatX\n",
        "\n",
        "init_b = np.random.randn(nf, nc-1).astype(floatX)\n",
        "init_a = np.random.randn(nc-1).astype(floatX)\n",
        "\n",
        "\n",
        "with pm.Model() as multi_logistic:\n",
        "    # Prior\n",
        "    β = pm.Normal('beta', 0, sigma=100, shape=(nf, nc-1), testval=init_b)\n",
        "    α = pm.Normal('alpha', 0, sigma=100, shape=(nc-1,), testval=init_a)\n",
        "    \n",
        "    # we need to consider nc-1 features because the model is not identifiable\n",
        "    # the softmax turns a vector into a probability that sums up to one\n",
        "    # therefore we add zeros to go back to dimension nc\n",
        "    # so that softmax returns a vector of dimension nc\n",
        "    β1  = tt.tensor.concatenate([np.zeros((nf,1)),β ],axis=1)\n",
        "    α1  = tt.tensor.concatenate([[0],α ],)\n",
        "    \n",
        "    # Likelihood\n",
        "    mu = pm.math.matrix_dot(X_train,β1) + α1\n",
        "    # It doesn't work if the problem is binary\n",
        "    p = tt.tensor.nnet.nnet.softmax(mu)\n",
        "    observed = pm.Multinomial('likelihood', p=p, n=1, observed=y_2_bin)"
      ],
      "execution_count": 46,
      "outputs": []
    },
    {
      "cell_type": "code",
      "metadata": {
        "id": "aj6Uzc05Rhtr",
        "colab": {
          "base_uri": "https://localhost:8080/",
          "height": 71
        },
        "outputId": "8b1dddad-b9fd-44f2-bf51-2346f199b430"
      },
      "source": [
        "with multi_logistic:\n",
        "   approx = pm.fit(5000, method='advi')\n"
      ],
      "execution_count": 47,
      "outputs": [
        {
          "output_type": "stream",
          "name": "stderr",
          "text": [
            "WARNING (theano.tensor.blas): We did not find a dynamic library in the library_dir of the library we use for blas. If you use ATLAS, make sure to compile it with dynamics library.\n"
          ]
        },
        {
          "output_type": "display_data",
          "data": {
            "text/html": [
              "\n",
              "    <div>\n",
              "        <style>\n",
              "            /* Turns off some styling */\n",
              "            progress {\n",
              "                /* gets rid of default border in Firefox and Opera. */\n",
              "                border: none;\n",
              "                /* Needs to be in here for Safari polyfill so background images work as expected. */\n",
              "                background-size: auto;\n",
              "            }\n",
              "            .progress-bar-interrupted, .progress-bar-interrupted::-webkit-progress-bar {\n",
              "                background: #F44336;\n",
              "            }\n",
              "        </style>\n",
              "      <progress value='5000' class='' max='5000' style='width:300px; height:20px; vertical-align: middle;'></progress>\n",
              "      100.00% [5000/5000 01:10<00:00 Average Loss = 8,431.5]\n",
              "    </div>\n",
              "    "
            ],
            "text/plain": [
              "<IPython.core.display.HTML object>"
            ]
          },
          "metadata": {}
        },
        {
          "output_type": "stream",
          "name": "stderr",
          "text": [
            "Finished [100%]: Average Loss = 8,424.3\n"
          ]
        }
      ]
    },
    {
      "cell_type": "code",
      "metadata": {
        "colab": {
          "base_uri": "https://localhost:8080/",
          "height": 475
        },
        "id": "LrE382KSjLJb",
        "outputId": "2f34c655-068c-47c1-dfe3-23d5c02490ae"
      },
      "source": [
        "# Plot the average loss over all iterations\n",
        "plt.rcParams['figure.figsize'] = [14,7] # Set figure size\n",
        "plt.plot(approx.hist)\n",
        "plt.title('Loss over iterations')\n",
        "plt.ylabel(\"Loss\")\n",
        "plt.xlabel(\"# iterations\")"
      ],
      "execution_count": 48,
      "outputs": [
        {
          "output_type": "execute_result",
          "data": {
            "text/plain": [
              "Text(0.5, 0, '# iterations')"
            ]
          },
          "metadata": {},
          "execution_count": 48
        },
        {
          "output_type": "display_data",
          "data": {
            "image/png": "[encoded data removed]",
            "text/plain": [
              "<Figure size 1008x504 with 1 Axes>"
            ]
          },
          "metadata": {
            "needs_background": "light"
          }
        }
      ]
    },
    {
      "cell_type": "code",
      "metadata": {
        "id": "2MFH4gwlRhrB"
      },
      "source": [
        "dd = 300\n",
        "posterior = approx.sample(draws=dd)"
      ],
      "execution_count": 49,
      "outputs": []
    },
    {
      "cell_type": "code",
      "metadata": {
        "id": "WNmJvYc4Rho7",
        "colab": {
          "base_uri": "https://localhost:8080/",
          "height": 297
        },
        "outputId": "f658c9e6-5066-4fed-c4eb-8d020930dcb6"
      },
      "source": [
        "## The softmax function transforms each element of a collection by computing the exponential\n",
        "#  of each element divided by the sum of the exponentials of all the elements.\n",
        "from scipy.special import softmax\n",
        "from keras.preprocessing import image\n",
        "\n",
        "#select an image in the test set\n",
        "i = 10 \n",
        "#i = random.randint(0, dd)\n",
        "\n",
        "#select a sample in the posterior\n",
        "s = 100 \n",
        "#s = random.randint(0, dd)\n",
        "\n",
        "\n",
        "beta  = np.hstack([np.zeros((nf,1)),  posterior['beta'][s,:] ])\n",
        "alpha = np.hstack([[0],  posterior['alpha'][s,:] ])\n",
        "image = X_val[i,:].reshape(28,28) # Image shape is 28x28 = 784\n",
        "\n",
        "plt.figure(figsize=(3,3))\n",
        "plt.imshow(image,cmap=\"Greys_r\")\n",
        "np.set_printoptions(suppress=True)\n",
        "\n",
        "print(\"test image #\" + str(i))\n",
        "print(\"posterior sample #\" + str(s))\n",
        "print(\"true class=\", y_val[i])\n",
        "print(\"classes: \" + str(classes))\n",
        "print(\"estimated prob=\",softmax((np.array([X_val[i,:].dot(beta) + alpha])))[0,:])"
      ],
      "execution_count": 50,
      "outputs": [
        {
          "output_type": "stream",
          "name": "stdout",
          "text": [
            "test image #10\n",
            "posterior sample #100\n",
            "true class= 2.0\n",
            "classes: [1. 2. 6.]\n",
            "estimated prob= [0. 1. 0.]\n"
          ]
        },
        {
          "output_type": "display_data",
          "data": {
            "image/png": "[encoded data removed]",
            "text/plain": [
              "<Figure size 216x216 with 1 Axes>"
            ]
          },
          "metadata": {
            "needs_background": "light"
          }
        }
      ]
    },
    {
      "cell_type": "code",
      "metadata": {
        "id": "XXh5GXJsRhmr"
      },
      "source": [
        "# Bayesian prediction\n",
        "# return the class that has the highest posterior probability\n",
        "y_pred_Bayesian=[]\n",
        "\n",
        "for i in range(X_val.shape[0]):\n",
        "    val=np.zeros((1,len(classes)))\n",
        "    \n",
        "    for s in range(posterior['beta'].shape[0]):\n",
        "        beta = np.hstack([np.zeros((nf,1)),  posterior['beta'][s,:] ])\n",
        "        alpha = np.hstack([[0],  posterior['alpha'][s,:] ])     \n",
        "        val = val + softmax((np.array([X_val[i,:].dot(beta) + alpha])))\n",
        "    \n",
        "    mean_probability = val/posterior['beta'].shape[0]\n",
        "    y_pred_Bayesian.append( np.argmax(mean_probability))\n"
      ],
      "execution_count": 51,
      "outputs": []
    },
    {
      "cell_type": "code",
      "metadata": {
        "colab": {
          "base_uri": "https://localhost:8080/"
        },
        "id": "EThCToxsT06w",
        "outputId": "ffeb2663-49ce-46b1-c3cd-3905d5d6f11c"
      },
      "source": [
        "# using validation: y_val\n",
        "print(\"Accuracy=\", accuracy_score(np.array(classes)[y_pred_Bayesian], y_val))"
      ],
      "execution_count": 52,
      "outputs": [
        {
          "output_type": "stream",
          "name": "stdout",
          "text": [
            "Accuracy= 0.95\n"
          ]
        }
      ]
    },
    {
      "cell_type": "markdown",
      "metadata": {
        "id": "fsM1A801UsiK"
      },
      "source": [
        "## Selecting different instances\n"
      ]
    },
    {
      "cell_type": "code",
      "metadata": {
        "id": "jL_D_R_4UkeB"
      },
      "source": [
        "y_predB=[]\n",
        "\n",
        "for i in range(X_val.shape[0]):\n",
        "    #print(i)\n",
        "    val=[]\n",
        "\n",
        "    for s in range(posterior['beta'].shape[0]):\n",
        "        beta = np.hstack([np.zeros((nf,1)),  posterior['beta'][s,:] ])\n",
        "        alpha = np.hstack([[0],  posterior['alpha'][s,:] ])\n",
        "        val.append(softmax((np.array([X_val[i,:].dot(beta) + alpha])))[0,:])\n",
        "\n",
        "    #mean probability\n",
        "    valmean = np.mean(val,axis=0)\n",
        "    #class with maximum mean probability\n",
        "    classmax = np.argmax(valmean)\n",
        "    #ranks\n",
        "    ranks = np.array(val.copy())\n",
        "    ranks   = ranks  *0 #init\n",
        "    colmax = np.argmax(np.array(val),axis=1)\n",
        "    ranks[np.arange(0,len(colmax)),colmax]=1\n",
        "     \n",
        "    y_predB.append( [classmax, valmean[classmax], np.std(ranks,axis=0)[classmax]])\n",
        "\n",
        "    \n",
        "y_predB= np.array(y_predB)"
      ],
      "execution_count": 53,
      "outputs": []
    },
    {
      "cell_type": "code",
      "metadata": {
        "colab": {
          "base_uri": "https://localhost:8080/"
        },
        "id": "fkAfB025U7jF",
        "outputId": "b4ac30c9-c1f1-4c3a-b748-dc93063fc8e0"
      },
      "source": [
        "# prediction array\n",
        "mm = 10\n",
        "y_predB[0:mm,:]"
      ],
      "execution_count": 54,
      "outputs": [
        {
          "output_type": "execute_result",
          "data": {
            "text/plain": [
              "array([[0.        , 0.99988869, 0.        ],\n",
              "       [1.        , 0.99946568, 0.        ],\n",
              "       [1.        , 0.99572311, 0.05763872],\n",
              "       [2.        , 0.76112686, 0.40730824],\n",
              "       [1.        , 0.98793817, 0.11469767],\n",
              "       [1.        , 0.56526066, 0.49638695],\n",
              "       [0.        , 0.99137805, 0.05763872],\n",
              "       [0.        , 0.97522098, 0.1280191 ],\n",
              "       [0.        , 0.97353395, 0.1280191 ],\n",
              "       [0.        , 0.95210834, 0.19595918]])"
            ]
          },
          "metadata": {},
          "execution_count": 54
        }
      ]
    },
    {
      "cell_type": "code",
      "metadata": {
        "colab": {
          "base_uri": "https://localhost:8080/"
        },
        "id": "_cuecC3jU-p6",
        "outputId": "acb8e42f-6028-4165-ee37-728e3281769b"
      },
      "source": [
        "#sorting in descending order\n",
        "difficult = np.argsort(-y_predB[:,2])\n",
        "y_predB[difficult[0:mm],:]"
      ],
      "execution_count": 55,
      "outputs": [
        {
          "output_type": "execute_result",
          "data": {
            "text/plain": [
              "array([[0.        , 0.49926324, 0.5       ],\n",
              "       [1.        , 0.50259462, 0.49998889],\n",
              "       [2.        , 0.49354243, 0.49995555],\n",
              "       [1.        , 0.48683361, 0.49995555],\n",
              "       [0.        , 0.49807912, 0.49989999],\n",
              "       [1.        , 0.51110886, 0.49972215],\n",
              "       [2.        , 0.4708998 , 0.49959984],\n",
              "       [0.        , 0.53554493, 0.49959984],\n",
              "       [2.        , 0.5093782 , 0.49945526],\n",
              "       [1.        , 0.53180009, 0.49945526]])"
            ]
          },
          "metadata": {},
          "execution_count": 55
        }
      ]
    },
    {
      "cell_type": "code",
      "metadata": {
        "colab": {
          "base_uri": "https://localhost:8080/"
        },
        "id": "4iar7tlUVAkg",
        "outputId": "d1a32b6c-8217-4154-80ef-4f54dc6503d3"
      },
      "source": [
        "y_predB[y_pred_log != y_val,:]"
      ],
      "execution_count": 56,
      "outputs": [
        {
          "output_type": "execute_result",
          "data": {
            "text/plain": [
              "array([[1.        , 0.56526066, 0.49638695],\n",
              "       [1.        , 0.84086466, 0.35707142],\n",
              "       [1.        , 0.9652969 , 0.17058722],\n",
              "       [1.        , 0.57723815, 0.49243161],\n",
              "       [0.        , 0.61597404, 0.48368952],\n",
              "       [1.        , 0.94282325, 0.22469733],\n",
              "       [0.        , 0.80354508, 0.38138636],\n",
              "       [1.        , 0.82930683, 0.36660606],\n",
              "       [1.        , 0.87427804, 0.32881944],\n",
              "       [2.        , 0.78907797, 0.40491426],\n",
              "       [1.        , 0.85519367, 0.34349511],\n",
              "       [2.        , 0.52384578, 0.49781746],\n",
              "       [2.        , 0.61122149, 0.48189441],\n",
              "       [2.        , 0.9962096 , 0.        ],\n",
              "       [1.        , 0.53587409, 0.49811868],\n",
              "       [1.        , 0.53134936, 0.49839743],\n",
              "       [1.        , 0.60929731, 0.48848974],\n",
              "       [1.        , 0.67700639, 0.46110977],\n",
              "       [2.        , 0.99989342, 0.        ],\n",
              "       [1.        , 0.51110886, 0.49972215],\n",
              "       [0.        , 0.76618953, 0.40730824]])"
            ]
          },
          "metadata": {},
          "execution_count": 56
        }
      ]
    },
    {
      "cell_type": "code",
      "metadata": {
        "colab": {
          "base_uri": "https://localhost:8080/"
        },
        "id": "W5V6p93HVGBd",
        "outputId": "7089e880-76d4-4584-9c1a-d4e9453bd20a"
      },
      "source": [
        "## Difficult & easy instances\n",
        "\n",
        "print(\"Accuracy in all instances =\", accuracy_score(y_pred_log, y_val))\n",
        "\n",
        "easy = np.argsort(y_predB[:,2])\n",
        "print(\"Accuracy in easy instances =\", accuracy_score(y_pred_log[easy[0:100]], y_val[easy[0:100]]))\n",
        "\n",
        "difficult = np.argsort(-y_predB[:,2])\n",
        "print(\"Accuracy in difficult instances =\", accuracy_score(y_pred_log[difficult[0:100]], y_val[difficult[0:100]]))"
      ],
      "execution_count": 57,
      "outputs": [
        {
          "output_type": "stream",
          "name": "stdout",
          "text": [
            "Accuracy in all instances = 0.9766666666666667\n",
            "Accuracy in easy instances = 0.99\n",
            "Accuracy in difficult instances = 0.9\n"
          ]
        }
      ]
    },
    {
      "cell_type": "code",
      "metadata": {
        "colab": {
          "base_uri": "https://localhost:8080/",
          "height": 248
        },
        "id": "vfFxBJo0VGpg",
        "outputId": "26947380-c4f5-4f90-e747-9a7589bfca9e"
      },
      "source": [
        "# show 10 random 'easy' images\n",
        "fig, axs = plt.subplots(2,5, figsize=(12, 4))\n",
        "axs = axs.ravel()\n",
        "\n",
        "for i in range(10):\n",
        "    index = easy[i]\n",
        "    image = X_val[index,:].reshape(28,28)\n",
        "    axs[i].axis('off')\n",
        "    axs[i].imshow(image,cmap=\"Greys_r\")\n",
        "    "
      ],
      "execution_count": 58,
      "outputs": [
        {
          "output_type": "display_data",
          "data": {
            "image/png": "[encoded data removed]",
            "text/plain": [
              "<Figure size 864x288 with 10 Axes>"
            ]
          },
          "metadata": {
            "needs_background": "light"
          }
        }
      ]
    },
    {
      "cell_type": "code",
      "metadata": {
        "colab": {
          "base_uri": "https://localhost:8080/",
          "height": 248
        },
        "id": "IUmmyWfKVK0g",
        "outputId": "f8d61032-c67d-4d5a-9387-05df803164b0"
      },
      "source": [
        "# show 10 random 'difficult' images\n",
        "fig, axs = plt.subplots(2,5, figsize=(12, 4))\n",
        "fig.subplots_adjust(hspace = .2, wspace=.001)\n",
        "axs = axs.ravel()\n",
        "for i in range(10):\n",
        "    index = difficult[i]\n",
        "    image = X_val[index,:].reshape(28,28)\n",
        "    axs[i].axis('off')\n",
        "    axs[i].imshow(image,cmap=\"Greys_r\")\n",
        "    "
      ],
      "execution_count": 59,
      "outputs": [
        {
          "output_type": "display_data",
          "data": {
            "image/png": "[encoded data removed]",
            "text/plain": [
              "<Figure size 864x288 with 10 Axes>"
            ]
          },
          "metadata": {
            "needs_background": "light"
          }
        }
      ]
    },
    {
      "cell_type": "code",
      "metadata": {
        "id": "XpVct21oM5yp"
      },
      "source": [
        ""
      ],
      "execution_count": 59,
      "outputs": []
    },
    {
      "cell_type": "markdown",
      "metadata": {
        "id": "Ll8gRSzZTgDs"
      },
      "source": [
        "**Remove the most difficult instances from General recipe ML**"
      ]
    },
    {
      "cell_type": "markdown",
      "metadata": {
        "id": "0HcksHwj9QVc"
      },
      "source": [
        "**Method**"
      ]
    },
    {
      "cell_type": "markdown",
      "metadata": {
        "id": "WlokS4RoGLXL"
      },
      "source": [
        "The accuracy of General recipe ML is around 96% meaning that less than 5% of the predictions are misclassified.\n",
        "\n",
        "My approach here is to exclude a percentage (xpc in the code) hardest images to classify. This should increase the performance very significantly.  \n"
      ]
    },
    {
      "cell_type": "code",
      "metadata": {
        "colab": {
          "base_uri": "https://localhost:8080/"
        },
        "id": "Zb3a-IqgGsnC",
        "outputId": "0787f271-bb6c-4e75-f7ed-23a14f0e7ba6"
      },
      "source": [
        "# difficult = np.argsort(-y_predB[:,2])\n",
        "\n",
        "xpc = 0.05 # x% of hardest images to exclude from the retrain data set.\n",
        "exclusions = int(len(X_val)*xpc) # Calculate 5% of the sample data\n",
        "\n",
        "hardest=(difficult[0:exclusions]) # Get the list of the 5% hardest images to classify\n",
        "\n",
        "X_recompute=[] # List X_val to retrain\n",
        "y_recompute=[] # List y_val to retrain\n",
        "\n",
        "for i in range(len(X_val)):  # Exclude the 5% hardest to classify\n",
        "  if i not in (hardest):\n",
        "    X_recompute.append(X_val[i])\n",
        "    y_recompute.append(y_val[i])\n",
        "    \n",
        "\n",
        "len(X_recompute) # Total of instances to retrain\n"
      ],
      "execution_count": 66,
      "outputs": [
        {
          "output_type": "execute_result",
          "data": {
            "text/plain": [
              "855"
            ]
          },
          "metadata": {},
          "execution_count": 66
        }
      ]
    },
    {
      "cell_type": "code",
      "metadata": {
        "id": "lunGmnrb4t99"
      },
      "source": [
        "# model\n",
        "model_logi_recomputed = LogisticRegression(random_state=0, max_iter=2000, C=100, solver='lbfgs', multi_class='multinomial').fit(X_recompute, y_recompute)\n",
        "\n",
        "# Classification\n",
        "y_pred_logi_recomputed = model_logi_recomputed.predict(X_val)\n",
        "y_pred_logi_prob_recomputed = model_logi_recomputed.predict_proba(X_val)\n",
        "\n",
        "prob_classmax_recomputed = np.max(y_pred_logi_prob_recomputed,axis=1)"
      ],
      "execution_count": 67,
      "outputs": []
    },
    {
      "cell_type": "markdown",
      "metadata": {
        "id": "lLukvj-jWPFE"
      },
      "source": [
        "**Compare the accuracy**"
      ]
    },
    {
      "cell_type": "code",
      "metadata": {
        "colab": {
          "base_uri": "https://localhost:8080/"
        },
        "id": "xzE50n0ZJ9j0",
        "outputId": "e3f499c7-6918-4e6d-a0d9-5ade8ffcaff1"
      },
      "source": [
        "# Computing the Accuracy of Original Model:\n",
        "print('Original Model')\n",
        "print('Accuracy=', accuracy_score(y_pred_log,y_val))\n",
        "print(\"Misclassifications\", len(prob_classmax[y_pred_log!=y_val]))\n",
        "\n",
        "print('\\n')\n",
        "print('Re-computed model removing the',str(xpc * 100),'% hardest instances')\n",
        "print('Accuracy=', accuracy_score(y_pred_logi_recomputed,y_val))\n",
        "print(\"Misclassifications\", len(prob_classmax[y_pred_logi_recomputed!=y_val]))"
      ],
      "execution_count": 68,
      "outputs": [
        {
          "output_type": "stream",
          "name": "stdout",
          "text": [
            "Original Model\n",
            "Accuracy= 0.9766666666666667\n",
            "Misclassifications 21\n",
            "\n",
            "\n",
            "Re-computed model removing the 5.0 % hardest instances\n",
            "Accuracy= 0.9877777777777778\n",
            "Misclassifications 11\n"
          ]
        }
      ]
    },
    {
      "cell_type": "markdown",
      "metadata": {
        "id": "7d-TjxGqCwh3"
      },
      "source": [
        "## Summary"
      ]
    },
    {
      "cell_type": "markdown",
      "metadata": {
        "id": "B8yqYlYCC2hF"
      },
      "source": [
        "**Dataset**\n",
        "\n",
        "The MNIST dataset of handwritten digits is great. 60K of training & 10k of testing data are enough for, at least, learning purposes. I didn't find any cons of the dataset.\n",
        "\n",
        "**Work completed**\n",
        "\n",
        "* The dataset was loaded and one instance of each handwritten digit was plotted to enable us to get a feel for what the dataset looked like.\n",
        "* The data was normalized to reduce it to a common scale between 0 and 1. I also included some explanations of the relevance of this task. \n",
        "* The data was described: sample size, shape, proportion of training and testing data and, plot of histogram\n",
        "* The dataset was downsampled to 1,500 instances of 3 random classes. The distribution is shown on a histogram. The classes randomly chosen are 1,2 and 6.\n",
        "* 90 random instances of the downsampled data set were plotted. \n",
        "* the data set was split: 80% training and 20% testing. The new shapes were printed out.\n",
        "* A General Recipe Multinomial LR was trained\n",
        "* Classes of the testing set were predicted and both the accuracy of 97.7% and number of misclassifications (21 out of 900) were printed out.\n",
        "* The hardest and easiest images to classify were plotted to get a feel for what they looked like. \n",
        "* The model was evaluated using classification report from *sklearn*. It printed out the **precision, recall, F1-Score **and **Support** of each classe. I also included an explanation of each metric along with the references to an article.    \n",
        "* A Probabilistic Multinomial LR was trained on training set and the classes of the testing set were predicted. The accuracy of 95% was printed out. \n",
        "* The hardest image to classify was plotted as well as 10 random images from the list of hard and 10 from the list of easy.\n",
        "* Posterior uncertainty was used to detect the instances in the test set that are hard to classify. The 5% hardest were removed from the test-set. \n",
        "* The General Recipe Multinomial LR model was re-computed without the hardest images and the new accuracy of 98.7% was printed out along with number of 10 misclassifications. \n",
        "\n",
        "\n",
        "**Discussions with my peers**\n",
        "\n",
        "The discussion on the forums were very useful. We reviewed each others' solutions, learned from our peers and received/gave feedback.\n",
        "I've learned from the discussions that the main advantage of Bayesian multinomial LR is that it provides a confidence interval (or uncertainty) of the value, which is closer to reality. General-recipe LR, on the other hand, gives a single point.\n",
        "There are many discussion in the forums related to approaches to draw a boundary between easy and hard images to classify. However, everyone seems to agree that any decisons would rely on the de definition of hard/easy, sample size, algorithm used, parameters applied etc. so it really depends on the specific problem to solve and the tools available. I decided to simply use the posterior uncertainty to detect the instances (digits) in the test set that are harder to classify and removed the 5% hardest ones to classify from the test-set and shared my approach with my peers. Feedback were positive encouraging me to stick with this approach. \n",
        "\n",
        "\n",
        "**Conclusions about the e-tivity**\n",
        "\n",
        "E-tivity 1 was very interesting and I've learned a lot from the resources, discussions and my peers' solutions. It would worth to further explore differents sets of samples and predictions with more than 3 classes.  "
      ]
    },
    {
      "cell_type": "markdown",
      "metadata": {
        "id": "6eVyHYUV3I1Y"
      },
      "source": [
        "## References"
      ]
    },
    {
      "cell_type": "markdown",
      "metadata": {
        "id": "IwQjLgxQMBfe"
      },
      "source": [
        "\n",
        "1) Brownlee, J., 2018. How to Use ROC Curves and Precision-Recall Curves for Classification in Python. [online] Machine Learning Mastery. Available at: <https://machinelearningmastery.com/roc-curves-and-precision-recall-curves-for-classification-in-python/> [Accessed 15 September 2021].\n",
        "\n",
        "2) Jaitley, U., 2018. Why Data Normalization is necessary for Machine Learning models. [online] Medium. Available at: <https://medium.com/@urvashilluniya/why-data-normalization-is-necessary-for-machine-learning-models-681b65a05029> [Accessed 15 September 2021].\n",
        "\n",
        "3) Kohli, S., 2019. Understanding a Classification Report For Your Machine Learning Model. [online] Medium. Available at: <https://medium.com/@kohlishivam5522/understanding-a-classification-report-for-your-machine-learning-model-88815e2ce397> [Accessed 15 September 2021]."
      ]
    }
  ]
}