{
  "nbformat": 4,
  "nbformat_minor": 0,
  "metadata": {
    "colab": {
      "name": "Etivity_1_Carlos Santiago.ipynb",
      "provenance": [],
      "collapsed_sections": [
        "jxK1_8f1dvrc",
        "aOroY1QoP8DY",
        "NcshsLOGRPrk"
      ],
      "include_colab_link": true
    },
    "kernelspec": {
      "name": "python3",
      "display_name": "Python 3"
    },
    "language_info": {
      "name": "python"
    }
  },
  "cells": [
    {
      "cell_type": "markdown",
      "metadata": {
        "id": "view-in-github",
        "colab_type": "text"
      },
      "source": [
        "<a href=\"https://colab.research.google.com/github/carlos20160984/ET5003_SEM1_2021-2/blob/main/Etivity_1_Carlos_Santiago.ipynb\" target=\"_parent\"><img src=\"https://colab.research.google.com/assets/colab-badge.svg\" alt=\"Open In Colab\"/></a>"
      ]
    },
    {
      "cell_type": "markdown",
      "metadata": {
        "id": "jxK1_8f1dvrc"
      },
      "source": [
        "<div>\n",
        "<img src=\"https://drive.google.com/uc?export=view&id=1vK33e_EqaHgBHcbRV_m38hx6IkG0blK_\" width=\"350\"/>\n",
        "</div> \n",
        "\n",
        "#**Artificial Intelligence - MSc**\n",
        "ET5003 - MACHINE LEARNING APPLICATIONS \n",
        "\n",
        "###Instructor: Enrique Naredo\n",
        "###ET5003_Etivity-1"
      ]
    },
    {
      "cell_type": "code",
      "metadata": {
        "id": "LqXD_IwUQuBF",
        "cellView": "form"
      },
      "source": [
        "#@title Current Date\n",
        "Today = '2021-08-22' #@param {type:\"date\"}\n"
      ],
      "execution_count": null,
      "outputs": []
    },
    {
      "cell_type": "markdown",
      "metadata": {
        "id": "vH105g2IuuQN"
      },
      "source": [
        "# **Introduction**"
      ]
    },
    {
      "cell_type": "code",
      "metadata": {
        "id": "uzDKau31OjVO"
      },
      "source": [
        "#@markdown ---\n",
        "#@markdown ### Enter your details here:\n",
        "Student_ID = \"20160984\" #@param {type:\"string\"}\n",
        "Student_full_name = \"Carlos Santiago\" #@param {type:\"string\"}\n",
        "#@markdown ---"
      ],
      "execution_count": 2,
      "outputs": []
    },
    {
      "cell_type": "code",
      "metadata": {
        "id": "r39xGZckTpKx"
      },
      "source": [
        "#@title Notebook information\n",
        "Notebook_type = 'Etivity' #@param [\"Example\", \"Lab\", \"Practice\", \"Etivity\", \"Assignment\", \"Exam\"]\n",
        "Version = 'Draft' #@param [\"Draft\", \"Final\"] {type:\"raw\"}\n",
        "Submission = False #@param {type:\"boolean\"}"
      ],
      "execution_count": 8,
      "outputs": []
    },
    {
      "cell_type": "markdown",
      "metadata": {
        "id": "-EA7rXqOvehA"
      },
      "source": [
        "<b>Explanation of the problem</b>"
      ]
    },
    {
      "cell_type": "markdown",
      "metadata": {
        "id": "et0Fs6zvv3ks"
      },
      "source": [
        "The first goal is to solve a classification problem of digits 0 to 9 from MNIST dataset. The sample data contains 10 classes of images of 28x28 pixels.\n",
        "\n",
        "The classification must be solved with **General-receipe multinomial logist regression** and **Bayesian multinomial logistic regression**. \n",
        "\n",
        "The main advantage of **Bayesian multinomial LR** is that it provides a confidence interval (or uncertainty) of the value, which is closer to reality. **General-receipe LR**, on the other hand, gives a single point.\n",
        "\n",
        "The second goal is to use the posterior uncertainty to detect the digits that are harder to classify and remove them from the dataset. Then we re-run the general-receipe logistic regression to compare the results. \n",
        "\n",
        "\n"
      ]
    },
    {
      "cell_type": "markdown",
      "metadata": {
        "id": "q924z-6Y1HGg"
      },
      "source": [
        "**Mathematical Notations and Images**"
      ]
    },
    {
      "cell_type": "markdown",
      "metadata": {
        "id": "H20A0hOk1PMX"
      },
      "source": [
        "Add here"
      ]
    },
    {
      "cell_type": "markdown",
      "metadata": {
        "id": "3WKh9_kI07Oi"
      },
      "source": [
        "**Links to the references**"
      ]
    },
    {
      "cell_type": "markdown",
      "metadata": {
        "id": "IAvmR6mw1CE7"
      },
      "source": [
        "links here"
      ]
    },
    {
      "cell_type": "markdown",
      "metadata": {
        "id": "80m304lUefG4"
      },
      "source": [
        "## MNIST dataset"
      ]
    },
    {
      "cell_type": "markdown",
      "metadata": {
        "id": "Bs8mHGcidHSa"
      },
      "source": [
        "\n",
        "\n",
        "The MNIST database  is a dataset of handwritten digits that has been and is extensively used in machine learning. There are $10$ classes, each image is $28\\times28$ pixels and, therefore, each input is $x_i\\in\\mathbb{R}^{784}$. "
      ]
    },
    {
      "cell_type": "markdown",
      "metadata": {
        "id": "ailycCq5epj2"
      },
      "source": [
        "## Task"
      ]
    },
    {
      "cell_type": "markdown",
      "metadata": {
        "id": "a-yNAxhUemjM"
      },
      "source": [
        "You have to extend the code to manage any arbitrary number of classes, in other words you have to implement a general-recipe multinomial logistic classifier and Bayesian multinomial logistic classifier.\n",
        "\n",
        "You must then select  3 digits at random and perform  the following task. \n",
        "\n",
        "1. Your goal is to use Bayesian multinomial logistic regression (as in the road-sign notebook) to solve this classification problem. \n",
        "\n",
        "2. You can downsize the training dataset (e.g., 40% training and 60%testing) if the computation of the posterior takes too much time in your computer.\n",
        "\n",
        "3. Use the posterior uncertainty to detect the instances (digits) in the test set that are hard to classify and remove them from the test-set.\n",
        "\n",
        "4. Then you need to compute again the accuracy of the general-recipe logistic regression on the remaining (non-difficult) instances and comment on the result.\n",
        "\n",
        "5. In practice, the task is to use uncertainty estimation to detect the difficult instances in the test-set. This is equivalent to refuse to classify all high-uncertainty instances or, in other words, when we are uncertain we say \"I don't know\" and we do not return any class. In this way, you will learn how uncertainty can be used to make safer decisions, by detecting the instances that are difficult to classify.\n"
      ]
    },
    {
      "cell_type": "markdown",
      "metadata": {
        "id": "nMRKRTQZe5fW"
      },
      "source": [
        "## Libraries"
      ]
    },
    {
      "cell_type": "code",
      "metadata": {
        "id": "IxusAui7AX_f"
      },
      "source": [
        "# Suppressing Warnings:\n",
        "import warnings\n",
        "warnings.filterwarnings(\"ignore\")"
      ],
      "execution_count": 9,
      "outputs": []
    },
    {
      "cell_type": "code",
      "metadata": {
        "id": "MQOfGMQpdHSb"
      },
      "source": [
        "# Import libraries\n",
        "from sklearn.linear_model import LogisticRegression\n",
        "from sklearn.metrics import accuracy_score\n",
        "from sklearn.model_selection import train_test_split\n",
        "import scipy.optimize as optimize\n",
        "from scipy.special import erf\n",
        "import pandas as pd\n",
        "import numpy as np\n",
        "import seaborn as sns\n",
        "from tqdm import tqdm\n",
        "from skimage.io import imread, imshow\n",
        "import matplotlib.image as mpimg\n",
        "import matplotlib.pyplot as plt\n",
        "import matplotlib\n",
        "%matplotlib inline\n",
        "import arviz as az\n",
        "from scipy.io import loadmat\n",
        "import pymc3 as pm\n",
        "import random\n",
        "from IPython.display import HTML\n",
        "import pickle\n",
        "import theano as tt\n",
        "import cv2\n",
        "from sklearn.utils import shuffle\n",
        "from skimage.color import rgb2gray"
      ],
      "execution_count": 65,
      "outputs": []
    },
    {
      "cell_type": "code",
      "metadata": {
        "id": "P5-qMSjpAQ-9"
      },
      "source": [
        "# Setting a seed:\n",
        "np.random.seed(123)"
      ],
      "execution_count": 11,
      "outputs": []
    },
    {
      "cell_type": "markdown",
      "metadata": {
        "id": "r4hSuwkUfVQb"
      },
      "source": [
        "## Dataset"
      ]
    },
    {
      "cell_type": "markdown",
      "metadata": {
        "id": "w99Pc66YdHSd"
      },
      "source": [
        "### Loading the MNIST dataset"
      ]
    },
    {
      "cell_type": "markdown",
      "metadata": {
        "id": "rHIeqUFZHGzw"
      },
      "source": [
        "COMMENT: The dataset of handwritten digits that has 10 classes of image of 28×28 pixels. Therefore, it inputn has 784 features."
      ]
    },
    {
      "cell_type": "code",
      "metadata": {
        "colab": {
          "base_uri": "https://localhost:8080/"
        },
        "id": "CYFWAbXVzynp",
        "outputId": "776bb204-c4e7-4103-b117-ad4bc2c82aa7"
      },
      "source": [
        "from google.colab import drive\n",
        "drive.mount('/content/drive')"
      ],
      "execution_count": 12,
      "outputs": [
        {
          "output_type": "stream",
          "name": "stdout",
          "text": [
            "Mounted at /content/drive\n"
          ]
        }
      ]
    },
    {
      "cell_type": "code",
      "metadata": {
        "id": "szMEBjKErNGB"
      },
      "source": [
        "Path = '/content/drive/MyDrive/etivity-1/'\n",
        "\n",
        "# MNIST Data\n",
        "train_data = Path + 'mnist_train.csv'\n",
        "test_data = Path + 'mnist_test.csv'\n",
        "\n",
        "# train data\n",
        "df_train = pd.read_csv(train_data)\n",
        "X_train = df_train.drop(\"label\",axis=1).values\n",
        "y_train = df_train.label.values\n",
        "\n",
        "# test data\n",
        "df_test = pd.read_csv(test_data)\n",
        "X_test = df_test.drop(\"label\",axis=1).values\n",
        "y_test = df_test.label.values\n"
      ],
      "execution_count": 54,
      "outputs": []
    },
    {
      "cell_type": "code",
      "metadata": {
        "colab": {
          "base_uri": "https://localhost:8080/"
        },
        "id": "pw3fzfhh3ckQ",
        "outputId": "75145a50-88e7-4bfe-9af0-aa8e18ca1e61"
      },
      "source": [
        "# Print shapes of the data\n",
        "\n",
        "print (\"SHAPE OF THE DATA\")\n",
        "print(\"Training set: \", X_train.shape)\n",
        "print(\"Testing set: \", X_test.shape)"
      ],
      "execution_count": 55,
      "outputs": [
        {
          "output_type": "stream",
          "name": "stdout",
          "text": [
            "SHAPE OF THE DATA\n",
            "Training set:  (60000, 784)\n",
            "Testing set:  (10000, 784)\n"
          ]
        }
      ]
    },
    {
      "cell_type": "code",
      "metadata": {
        "id": "W324KlXrDNPS"
      },
      "source": [
        "# plot digits\n",
        "def plot_digits(instances, images_per_row=5, **options):\n",
        "    size = 28\n",
        "    images_per_row = min(len(instances), images_per_row)\n",
        "    images = [instance.reshape(size,size) for instance in instances]\n",
        "    n_rows = (len(instances) - 1) // images_per_row + 1\n",
        "    row_images = []\n",
        "    n_empty = n_rows * images_per_row - len(instances)\n",
        "    images.append(np.zeros((size, size * n_empty)))\n",
        "    for row in range(n_rows):\n",
        "        rimages = images[row * images_per_row : (row + 1) * images_per_row]\n",
        "        row_images.append(np.concatenate(rimages, axis=1))\n",
        "    image = np.concatenate(row_images, axis=0)\n",
        "    plt.imshow(image,  cmap='gist_yarg', **options)\n",
        "    plt.axis(\"off\")"
      ],
      "execution_count": 81,
      "outputs": []
    },
    {
      "cell_type": "code",
      "metadata": {
        "colab": {
          "base_uri": "https://localhost:8080/",
          "height": 202
        },
        "id": "wb1XiPVRLKDt",
        "outputId": "2f576f7a-ad00-453d-faca-0698772a8c63"
      },
      "source": [
        "# initialize a null list for distinct digits\n",
        "\n",
        "distinct_labels = []\n",
        "sample_vector = []\n",
        "for x in range(len(y_train)):\n",
        "  if y_train[x] not in distinct_labels: \n",
        "    distinct_labels.append(y_train[x])\n",
        "    sample_vector.append(X_train[x])\n",
        "\n",
        "Z = [x for _,x in sorted(zip(distinct_labels,sample_vector))] # Sort sample vector based on ordered labels\n",
        "\n",
        "# Plotting 'original' image\n",
        "plt.figure(figsize=(6,6))\n",
        "plot_digits(Z ,images_per_row=5)\n",
        "plt.title(\"One sample of each handwritten digit\", fontsize=18)"
      ],
      "execution_count": 88,
      "outputs": [
        {
          "output_type": "execute_result",
          "data": {
            "text/plain": [
              "Text(0.5, 1.0, 'One sample of each handwritten digit')"
            ]
          },
          "metadata": {},
          "execution_count": 88
        },
        {
          "output_type": "display_data",
          "data": {
            "image/png": "[encoded data removed]",
            "text/plain": [
              "<Figure size 432x432 with 1 Axes>"
            ]
          },
          "metadata": {
            "needs_background": "light"
          }
        }
      ]
    },
    {
      "cell_type": "markdown",
      "metadata": {
        "id": "_-jrTW5c22BA"
      },
      "source": [
        "COMMENT: All features in the dataset have the same importance and should have the same influence on the results. Therefore, we have to normalize the data to give all features the same range. In this case, we will set the range from 0 to 1.\n",
        "\n",
        "Here is a good article on data normalization: https://medium.com/@urvashilluniya/why-data-normalization-is-necessary-for-machine-learning-models-681b65a05029"
      ]
    },
    {
      "cell_type": "code",
      "metadata": {
        "colab": {
          "base_uri": "https://localhost:8080/"
        },
        "id": "O2ubJ_WoAqBh",
        "outputId": "835e28f8-8bf7-46be-d287-67c21e8decc4"
      },
      "source": [
        "# Normalizing the Inputs:\n",
        "X_train = X_train/255\n",
        "X_test = X_test/255\n",
        "\n",
        "# Printing the new input range of values:\n",
        "minv = np.min(X_train)\n",
        "maxv = np.max(X_train)\n",
        "print(minv,maxv)"
      ],
      "execution_count": 56,
      "outputs": [
        {
          "output_type": "stream",
          "name": "stdout",
          "text": [
            "0.0 1.0\n"
          ]
        }
      ]
    },
    {
      "cell_type": "markdown",
      "metadata": {
        "id": "SR6HpkWndHSe"
      },
      "source": [
        "### Description of Data:"
      ]
    },
    {
      "cell_type": "code",
      "metadata": {
        "colab": {
          "base_uri": "https://localhost:8080/"
        },
        "id": "sibN1Vv1dHSf",
        "outputId": "4c3e9902-92d4-4feb-e3d1-9569205a82fe"
      },
      "source": [
        "# Number of examples\n",
        "n_train =  len(X_train)\n",
        "n_test =  len(X_test)\n",
        "\n",
        "# Shape of an traffic sign image\n",
        "image_shape = X_train.shape[1]\n",
        "\n",
        "# unique classes/labels in the training dataset.\n",
        "alltotal = set(y_train)\n",
        "n_classes = len(alltotal)\n",
        "\n",
        "print(\"Number of Training examples =\", n_train)\n",
        "print(\"Number of Test examples =\", n_test)\n",
        "print(\"Image input shape =\", image_shape)\n",
        "print(\"Number of classes =\", n_classes)\n",
        "print(\"% Training set = \", n_train/(n_train+n_test))\n",
        "print(\"% Testing set = \", n_test/(n_train+n_test))"
      ],
      "execution_count": 57,
      "outputs": [
        {
          "output_type": "stream",
          "name": "stdout",
          "text": [
            "Number of Training examples = 60000\n",
            "Number of Test examples = 10000\n",
            "Image input shape = 784\n",
            "Number of classes = 10\n",
            "% Training set =  0.8571428571428571\n",
            "% Testing set =  0.14285714285714285\n"
          ]
        }
      ]
    },
    {
      "cell_type": "markdown",
      "metadata": {
        "id": "6HQDSvrRKZF6"
      },
      "source": [
        "### Class Distribution:"
      ]
    },
    {
      "cell_type": "code",
      "metadata": {
        "id": "XG8GdlpBKdCt",
        "colab": {
          "base_uri": "https://localhost:8080/",
          "height": 295
        },
        "outputId": "f94f111a-dd20-44c6-b7f7-6d756e39fccd"
      },
      "source": [
        "fig, ax = plt.subplots()\n",
        "ind = np.arange(n_classes)\n",
        "\n",
        "n, bins, patches = ax.hist(y_train, ec='black', align='mid')\n",
        "ax.set_xlabel('classes')\n",
        "ax.set_ylabel('counts')\n",
        "ax.set_title(r'Histogram of Digit images')\n",
        "plt.show()\n"
      ],
      "execution_count": 58,
      "outputs": [
        {
          "output_type": "display_data",
          "data": {
            "image/png": "[encoded data removed]",
            "text/plain": [
              "<Figure size 432x288 with 1 Axes>"
            ]
          },
          "metadata": {
            "needs_background": "light"
          }
        }
      ]
    },
    {
      "cell_type": "markdown",
      "metadata": {
        "id": "ZMZbkpP4KmPj"
      },
      "source": [
        "#### Display one sample of each digit\n"
      ]
    },
    {
      "cell_type": "markdown",
      "metadata": {
        "id": "Z4Qhxg5X6FDl"
      },
      "source": [
        "COMMENT: The sample data has 60k training data and 10k testing data. <br>\n",
        "Training data accounts for 85.7% of the data set.<br>\n",
        "We can see from the *Histogram of Digit images* above that the sample data is well distributed across all 10 classes."
      ]
    },
    {
      "cell_type": "markdown",
      "metadata": {
        "id": "EyLWw3nsLCtk"
      },
      "source": [
        "## Downsampling"
      ]
    },
    {
      "cell_type": "markdown",
      "metadata": {
        "id": "2U1lFEwhLKBf"
      },
      "source": [
        "### Randomly selecting 3 of the 10 Digit Classes"
      ]
    },
    {
      "cell_type": "code",
      "metadata": {
        "id": "0EeRZZWdLRPT",
        "colab": {
          "base_uri": "https://localhost:8080/"
        },
        "outputId": "c2c9e0ac-3515-46a2-a9a7-269e380240f1"
      },
      "source": [
        "# We select the number of Classes we want:\n",
        "n_classes = 3\n",
        "\n",
        "# Empty list to append the random digit classes we select:\n",
        "classes = []\n",
        "\n",
        "# We select 3 digits at random and make sure they are unique:\n",
        "while len(classes) < 3:\n",
        "    \n",
        "    # Randomly drawing a digit from 0-9:\n",
        "    num2choose = np.random.randint(0,10)\n",
        "\n",
        "    # Append the digit if it's not already in our list of classes:\n",
        "    if num2choose not in classes: \n",
        "        classes.append(num2choose)\n",
        "        \n",
        "        \n",
        "# Sorting the Classes smallest to largest    \n",
        "classes.sort()\n",
        "# print classes selected\n",
        "classes"
      ],
      "execution_count": 89,
      "outputs": [
        {
          "output_type": "execute_result",
          "data": {
            "text/plain": [
              "[1, 2, 6]"
            ]
          },
          "metadata": {},
          "execution_count": 89
        }
      ]
    },
    {
      "cell_type": "code",
      "metadata": {
        "id": "2M8R5NqKMB_M"
      },
      "source": [
        "# The number of instances we'll keep for each of our 3 digits:\n",
        "inst_class = 1500\n",
        "\n",
        "inputs=[]\n",
        "labels=[]\n",
        "# Loop to randomly sample the instances for each digit:\n",
        "for r in classes:\n",
        "    imgs = X_train[np.where(y_train==r)[0],:]\n",
        "    inputs.append(imgs[np.random.permutation(imgs.shape[0]),:][0:inst_class,:])\n",
        "    labels.append(np.ones(inst_class)*r)\n",
        "    \n",
        "# Shaping inputs and labels in the right format    \n",
        "X_train = np.vstack(inputs).astype(np.float64)\n",
        "y_train = np.hstack(labels)\n"
      ],
      "execution_count": 90,
      "outputs": []
    },
    {
      "cell_type": "markdown",
      "metadata": {
        "id": "_6-YHrQQMicy"
      },
      "source": [
        "New Classes Distribution"
      ]
    },
    {
      "cell_type": "code",
      "metadata": {
        "id": "RA300COaMxWm",
        "colab": {
          "base_uri": "https://localhost:8080/",
          "height": 295
        },
        "outputId": "82d7b35d-c592-4b4f-e78c-e3ea7c8a16c1"
      },
      "source": [
        "# new histogram\n",
        "# Exactly same histogram of above\n",
        "\n",
        "fig, ax = plt.subplots()\n",
        "ind = np.arange(n_classes)\n",
        "\n",
        "n, bins, patches = ax.hist(y_train, ec='black', align='mid')\n",
        "ax.set_xlabel('classes')\n",
        "ax.set_ylabel('counts')\n",
        "ax.set_title(r'Histogram of Digit images')\n",
        "plt.show()\n",
        "\n"
      ],
      "execution_count": 91,
      "outputs": [
        {
          "output_type": "display_data",
          "data": {
            "image/png": "[encoded data removed]",
            "text/plain": [
              "<Figure size 432x288 with 1 Axes>"
            ]
          },
          "metadata": {
            "needs_background": "light"
          }
        }
      ]
    },
    {
      "cell_type": "markdown",
      "metadata": {
        "id": "ADF-l2uEFq6u"
      },
      "source": [
        "COMMENT: We have now a training sample containing three classes only. Each class has 1,500 records, down from the original data set containining 6,800-6,800 instances of each digit (class). This will reduce the computational time."
      ]
    },
    {
      "cell_type": "markdown",
      "metadata": {
        "id": "2QgbdRl15xkz"
      },
      "source": [
        "### Plot training data"
      ]
    },
    {
      "cell_type": "code",
      "metadata": {
        "id": "zeEG-LGOM4fJ",
        "colab": {
          "base_uri": "https://localhost:8080/",
          "height": 243
        },
        "outputId": "ecea1934-de23-413c-dceb-bdff3f82b403"
      },
      "source": [
        "# Show a few instances from each Digit:\n",
        "plt.figure(figsize=(8,8))\n",
        "\n",
        "# Selecting a few label indices from each of the 3 classes to show:\n",
        "\n",
        "randomlist = random.sample(range(0, len(X_train)), 90)  # Generate 90 images, 15 per now \n",
        "\n",
        "# Plotting 'original' image\n",
        "plot_digits(X_train[randomlist,:],images_per_row=15)\n",
        "plt.title(\"Original\", fontsize=14)"
      ],
      "execution_count": 96,
      "outputs": [
        {
          "output_type": "execute_result",
          "data": {
            "text/plain": [
              "Text(0.5, 1.0, 'Original')"
            ]
          },
          "metadata": {},
          "execution_count": 96
        },
        {
          "output_type": "display_data",
          "data": {
            "image/png": "[encoded data removed]",
            "text/plain": [
              "<Figure size 576x576 with 1 Axes>"
            ]
          },
          "metadata": {
            "needs_background": "light"
          }
        }
      ]
    },
    {
      "cell_type": "markdown",
      "metadata": {
        "id": "7luEIjY1IQnz"
      },
      "source": [
        "COMMENT: Above we have some random images from the reduced dataset with three digits only.\n",
        "We can visually see some diffences between images of the same class that may pose challenges to the classifiers. For instance, the digit 1 may leans forward or backwards. The number 2 sometimes looks like an inverted 6, sometimes like a Z etc. \n"
      ]
    },
    {
      "cell_type": "markdown",
      "metadata": {
        "id": "FsAOnOcNNG_V"
      },
      "source": [
        "###  Splitting the Training data into both Training and Validation Sets:\n",
        "\n",
        "- Although this is the Training set, we can still set aside some samples (for instance 20%) of the 1,500 instances we have for Model Validation purposes.\n",
        "\n",
        "\n",
        "- With that Validation Set, we can then select the amount of Uncertainty we are happy with from our Model to use out of sample on other unseen data.\n",
        "\n",
        "\n",
        "- We can then test out how well our decision performs on the Test Set that we put aside earlier."
      ]
    },
    {
      "cell_type": "code",
      "metadata": {
        "id": "YdsmyVAtPXNn"
      },
      "source": [
        "### Split tha dataset in training and validation sets\n",
        "# choose the fraction of your validation data from the training set\n",
        "w = 0.20\n",
        "X_train, X_val, y_train, y_val = train_test_split(X_train, y_train, test_size=w, random_state=0)\n",
        " \n",
        "# Shuffling the training instaces around to randomize the order of inputs to the model:\n",
        "X_train, y_train = shuffle(X_train, y_train)"
      ],
      "execution_count": 97,
      "outputs": []
    },
    {
      "cell_type": "code",
      "metadata": {
        "id": "qXwJwP0iPxhi",
        "colab": {
          "base_uri": "https://localhost:8080/"
        },
        "outputId": "49a54637-5e32-4821-838b-29dbfe5fa5c1"
      },
      "source": [
        "# print shape of your validation and training set\n",
        "\n",
        "print(\"SHAPES OF TRAINING AND VALIDATION SETS\\n\")\n",
        "print(\"Shape of X training set: \",X_train.shape)\n",
        "print(\"Shape of X validation set: \",X_val.shape)\n",
        "print(\"Shape of Y training set: \",y_train.shape)\n",
        "print(\"Shape of Y validation set: \",y_val.shape)\n"
      ],
      "execution_count": 98,
      "outputs": [
        {
          "output_type": "stream",
          "name": "stdout",
          "text": [
            "SHAPES OF TRAINING AND VALIDATION SETS\n",
            "\n",
            "Shape of X training set:  (3600, 784)\n",
            "Shape of X validation set:  (900, 784)\n",
            "Shape of Y training set:  (3600,)\n",
            "Shape of Y validation set:  (900,)\n"
          ]
        }
      ]
    },
    {
      "cell_type": "markdown",
      "metadata": {
        "id": "aOroY1QoP8DY"
      },
      "source": [
        "### Encoding the Class labels for the Probabilistic ML Model:\n",
        "\n",
        "This is an example:\n",
        "\n",
        "- **[1,0,0]** for first digit\n",
        "- **[0,1,0]** for second digit\n",
        "- **[0,0,1]** for third digit"
      ]
    },
    {
      "cell_type": "markdown",
      "metadata": {
        "id": "rjUaqWTqQIcp"
      },
      "source": [
        "### General-Recipe ML"
      ]
    },
    {
      "cell_type": "code",
      "metadata": {
        "id": "QzgdivxfQNv5",
        "colab": {
          "base_uri": "https://localhost:8080/",
          "height": 315
        },
        "outputId": "d0f71c51-5a1e-4290-a76b-a55953957b5f"
      },
      "source": [
        "# model\n",
        "model_log = LogisticRegression(random_state=0, max_iter=2000, C=100, solver='lbfgs', multi_class='multinomial').fit(X_train, y_train)\n",
        "\n",
        "\n",
        "\n",
        "\n",
        "# Classification:\n",
        "y_pred_log = model_log.predict(X_val)\n",
        "y_pred_logi_prob = model_log.predict_proba(X_val)\n",
        "\n",
        "# Maybe taking the maximum probability \n",
        "prob_classmax = np.max(y_pred_logi_prob,axis=1)\n",
        "# in any of the classes for each observation\n",
        "\n",
        "# Categories\n",
        "classes = model_log.classes_\n",
        "print(\"Input data are classified into three categories:\",classes)\n",
        "\n",
        "# Computing the Accuracy:\n",
        "print(\"Accuracy=\", accuracy_score(y_pred_log,y_val))\n",
        "\n",
        "\n",
        "#Plot image hardest to recognise\n",
        "plot_digits(X_train[np.array([np.argmin(prob_classmax)]),:],images_per_row=9)\n",
        "plt.title(\"Hardest image to classify\", fontsize=12)\n"
      ],
      "execution_count": 107,
      "outputs": [
        {
          "output_type": "stream",
          "name": "stdout",
          "text": [
            "Input data are classified into three categories: [1. 2. 6.]\n",
            "Accuracy= 0.9766666666666667\n"
          ]
        },
        {
          "output_type": "execute_result",
          "data": {
            "text/plain": [
              "Text(0.5, 1.0, 'Hardest image to classify')"
            ]
          },
          "metadata": {},
          "execution_count": 107
        },
        {
          "output_type": "display_data",
          "data": {
            "image/png": "[encoded data removed]",
            "text/plain": [
              "<Figure size 432x288 with 1 Axes>"
            ]
          },
          "metadata": {
            "needs_background": "light"
          }
        }
      ]
    },
    {
      "cell_type": "markdown",
      "metadata": {
        "id": "k3PiDUNseERu"
      },
      "source": [
        "### Model Performance"
      ]
    },
    {
      "cell_type": "markdown",
      "metadata": {
        "id": "jlLojYV5kVby"
      },
      "source": [
        "Classification evaluation is nicely explained in the blog *How to Use ROC Curves and Precision-Recall Curves for Classification in Python*\n",
        "\n",
        "Main metrics:\n",
        "\n",
        "**Precision** = True Positives / (True Positives + False Positives)\n",
        "\n",
        "**Recall** = True Positives / (True Positives + False Negatives)\n",
        "\n",
        "**F1-score** = Calculates the harmonic mean of the precision and recall\n",
        "\n",
        "**Support** = actual occurrences of the class in the specified dataset\n",
        "\n",
        "-\n",
        "\n",
        "The blog *Understanding a Classification Report For Your Machine Learning Model* explains the **classification report** in details.\n",
        "\n",
        "\n",
        "The below section evaluates the performance of the classifier on each individual class using classification report from *sklearn*"
      ]
    },
    {
      "cell_type": "code",
      "metadata": {
        "colab": {
          "base_uri": "https://localhost:8080/"
        },
        "id": "ZkxYX_M2eJ6C",
        "outputId": "ee72de7d-4351-4a14-8e23-8658b2f86edb"
      },
      "source": [
        "from sklearn.metrics import classification_report\n",
        "from sklearn.metrics import accuracy_score\n",
        "\n",
        "y_true = y_val\n",
        "y_pred = y_pred_log\n",
        "\n",
        "target_names = []\n",
        "for x in classes:\n",
        "  target_names.append(\"digit \"+str(x))\n",
        "\n",
        "print(classification_report(y_true, y_pred, target_names=target_names, digits=4))\n"
      ],
      "execution_count": 116,
      "outputs": [
        {
          "output_type": "stream",
          "name": "stdout",
          "text": [
            "              precision    recall  f1-score   support\n",
            "\n",
            "   digit 1.0     0.9834    0.9867    0.9851       301\n",
            "   digit 2.0     0.9736    0.9578    0.9656       308\n",
            "   digit 6.0     0.9729    0.9863    0.9795       291\n",
            "\n",
            "    accuracy                         0.9767       900\n",
            "   macro avg     0.9766    0.9769    0.9767       900\n",
            "weighted avg     0.9767    0.9767    0.9766       900\n",
            "\n"
          ]
        }
      ]
    },
    {
      "cell_type": "markdown",
      "metadata": {
        "id": "3uQG6JsOQxH5"
      },
      "source": [
        "### Probabilistic Multinomial Logistic Regression:"
      ]
    },
    {
      "cell_type": "markdown",
      "metadata": {
        "id": "irlmUNw7Q5YL"
      },
      "source": [
        "The Multinomial Logistic Regression has some parameters:\n",
        "\n",
        "- $\\alpha$, which is the intercept term:\n",
        "\n",
        "- $\\beta$, which is a vector of coefficients which give a weighting to the importance of each input feature:\n"
      ]
    },
    {
      "cell_type": "code",
      "metadata": {
        "id": "1o7mbKWmRhz5"
      },
      "source": [
        "import sklearn.preprocessing\n",
        "## We use LabelBinarizer to transfor classes into counts\n",
        "# neg_label=0, pos_label=1 \n",
        "y_2_bin = sklearn.preprocessing.LabelBinarizer().fit_transform(y_train.reshape(-1,1))\n",
        "nf = X_train.shape[1]\n",
        "# number of classes\n",
        "nc = len(classes)\n",
        "# floatX = float32\n",
        "floatX = tt.config.floatX\n",
        "\n",
        "init_b = np.random.randn(nf, nc-1).astype(floatX)\n",
        "init_a = np.random.randn(nc-1).astype(floatX)\n",
        "\n",
        "\n",
        "with pm.Model() as multi_logistic:\n",
        "    # Prior\n",
        "    β = pm.Normal('beta', 0, sigma=100, shape=(nf, nc-1), testval=init_b)\n",
        "    α = pm.Normal('alpha', 0, sigma=100, shape=(nc-1,), testval=init_a)\n",
        "    \n",
        "    # we need to consider nc-1 features because the model is not identifiable\n",
        "    # the softmax turns a vector into a probability that sums up to one\n",
        "    # therefore we add zeros to go back to dimension nc\n",
        "    # so that softmax returns a vector of dimension nc\n",
        "    β1  = tt.tensor.concatenate([np.zeros((nf,1)),β ],axis=1)\n",
        "    α1  = tt.tensor.concatenate([[0],α ],)\n",
        "    \n",
        "    # Likelihood\n",
        "    mu = pm.math.matrix_dot(X_train,β1) + α1\n",
        "    # It doesn't work if the problem is binary\n",
        "    p = tt.tensor.nnet.nnet.softmax(mu)\n",
        "    observed = pm.Multinomial('likelihood', p=p, n=1, observed=y_2_bin)"
      ],
      "execution_count": 117,
      "outputs": []
    },
    {
      "cell_type": "code",
      "metadata": {
        "id": "aj6Uzc05Rhtr",
        "colab": {
          "base_uri": "https://localhost:8080/",
          "height": 71
        },
        "outputId": "dc6bf640-2902-4325-9f85-fb481090be58"
      },
      "source": [
        "with multi_logistic:\n",
        "   approx = pm.fit(10000, method='advi')\n"
      ],
      "execution_count": 118,
      "outputs": [
        {
          "output_type": "stream",
          "name": "stderr",
          "text": [
            "WARNING (theano.tensor.blas): We did not find a dynamic library in the library_dir of the library we use for blas. If you use ATLAS, make sure to compile it with dynamics library.\n"
          ]
        },
        {
          "output_type": "display_data",
          "data": {
            "text/html": [
              "\n",
              "    <div>\n",
              "        <style>\n",
              "            /* Turns off some styling */\n",
              "            progress {\n",
              "                /* gets rid of default border in Firefox and Opera. */\n",
              "                border: none;\n",
              "                /* Needs to be in here for Safari polyfill so background images work as expected. */\n",
              "                background-size: auto;\n",
              "            }\n",
              "            .progress-bar-interrupted, .progress-bar-interrupted::-webkit-progress-bar {\n",
              "                background: #F44336;\n",
              "            }\n",
              "        </style>\n",
              "      <progress value='10000' class='' max='10000' style='width:300px; height:20px; vertical-align: middle;'></progress>\n",
              "      100.00% [10000/10000 02:09<00:00 Average Loss = 6,984.8]\n",
              "    </div>\n",
              "    "
            ],
            "text/plain": [
              "<IPython.core.display.HTML object>"
            ]
          },
          "metadata": {}
        },
        {
          "output_type": "stream",
          "name": "stderr",
          "text": [
            "Finished [100%]: Average Loss = 6,983.6\n"
          ]
        }
      ]
    },
    {
      "cell_type": "code",
      "metadata": {
        "colab": {
          "base_uri": "https://localhost:8080/",
          "height": 475
        },
        "id": "LrE382KSjLJb",
        "outputId": "aa683245-f426-4db5-f5b9-a2ee329462df"
      },
      "source": [
        "# Plot the average loss over all iterations\n",
        "plt.rcParams['figure.figsize'] = [14,7] # Set figure size\n",
        "plt.plot(approx.hist)\n",
        "plt.title('Loss over iterations')\n",
        "plt.ylabel(\"Loss\")\n",
        "plt.xlabel(\"# iterations\")"
      ],
      "execution_count": 119,
      "outputs": [
        {
          "output_type": "execute_result",
          "data": {
            "text/plain": [
              "Text(0.5, 0, '# iterations')"
            ]
          },
          "metadata": {},
          "execution_count": 119
        },
        {
          "output_type": "display_data",
          "data": {
            "image/png": "[encoded data removed]",
            "text/plain": [
              "<Figure size 1008x504 with 1 Axes>"
            ]
          },
          "metadata": {
            "needs_background": "light"
          }
        }
      ]
    },
    {
      "cell_type": "code",
      "metadata": {
        "id": "2MFH4gwlRhrB"
      },
      "source": [
        "dd = 300\n",
        "posterior = approx.sample(draws=dd)"
      ],
      "execution_count": 120,
      "outputs": []
    },
    {
      "cell_type": "code",
      "metadata": {
        "id": "WNmJvYc4Rho7",
        "colab": {
          "base_uri": "https://localhost:8080/",
          "height": 297
        },
        "outputId": "abee54e8-2b36-4c12-c717-32b6acac8e91"
      },
      "source": [
        "## The softmax function transforms each element of a collection by computing the exponential\n",
        "#  of each element divided by the sum of the exponentials of all the elements.\n",
        "from scipy.special import softmax\n",
        "from keras.preprocessing import image\n",
        "\n",
        "#select an image in the test set\n",
        "i = 10 \n",
        "#i = random.randint(0, dd)\n",
        "\n",
        "#select a sample in the posterior\n",
        "s = 100 \n",
        "#s = random.randint(0, dd)\n",
        "\n",
        "\n",
        "beta  = np.hstack([np.zeros((nf,1)),  posterior['beta'][s,:] ])\n",
        "alpha = np.hstack([[0],  posterior['alpha'][s,:] ])\n",
        "image = X_val[i,:].reshape(28,28) # Image shape is 28x28 = 784\n",
        "\n",
        "plt.figure(figsize=(3,3))\n",
        "plt.imshow(image,cmap=\"Greys_r\")\n",
        "np.set_printoptions(suppress=True)\n",
        "\n",
        "print(\"test image #\" + str(i))\n",
        "print(\"posterior sample #\" + str(s))\n",
        "print(\"true class=\", y_val[i])\n",
        "print(\"classes: \" + str(classes))\n",
        "print(\"estimated prob=\",softmax((np.array([X_val[i,:].dot(beta) + alpha])))[0,:])"
      ],
      "execution_count": 121,
      "outputs": [
        {
          "output_type": "stream",
          "name": "stdout",
          "text": [
            "test image #10\n",
            "posterior sample #100\n",
            "true class= 2.0\n",
            "classes: [1. 2. 6.]\n",
            "estimated prob= [0. 1. 0.]\n"
          ]
        },
        {
          "output_type": "display_data",
          "data": {
            "image/png": "[encoded data removed]",
            "text/plain": [
              "<Figure size 216x216 with 1 Axes>"
            ]
          },
          "metadata": {
            "needs_background": "light"
          }
        }
      ]
    },
    {
      "cell_type": "code",
      "metadata": {
        "id": "XXh5GXJsRhmr"
      },
      "source": [
        "# Bayesian prediction\n",
        "# return the class that has the highest posterior probability\n",
        "y_pred_Bayesian=[]\n",
        "\n",
        "for i in range(X_val.shape[0]):\n",
        "    val=np.zeros((1,len(classes)))\n",
        "    \n",
        "    for s in range(posterior['beta'].shape[0]):\n",
        "        beta = np.hstack([np.zeros((nf,1)),  posterior['beta'][s,:] ])\n",
        "        alpha = np.hstack([[0],  posterior['alpha'][s,:] ])     \n",
        "        val = val + softmax((np.array([X_val[i,:].dot(beta) + alpha])))\n",
        "    \n",
        "    mean_probability = val/posterior['beta'].shape[0]\n",
        "    y_pred_Bayesian.append( np.argmax(mean_probability))\n"
      ],
      "execution_count": 122,
      "outputs": []
    },
    {
      "cell_type": "code",
      "metadata": {
        "id": "S-sibMlOR2dl"
      },
      "source": [
        "# print(y_pred_Bayesian)"
      ],
      "execution_count": 123,
      "outputs": []
    },
    {
      "cell_type": "code",
      "metadata": {
        "id": "oG9Ts79CTtOh"
      },
      "source": [
        "# prediction array (using classes)\n",
        "#n = 100 # Just an sample\n",
        "#np.array(classes)[y_pred_Bayesian[0:n]]"
      ],
      "execution_count": 125,
      "outputs": []
    },
    {
      "cell_type": "code",
      "metadata": {
        "colab": {
          "base_uri": "https://localhost:8080/"
        },
        "id": "EThCToxsT06w",
        "outputId": "f6fcabd0-0bd7-4413-cdbc-2b5c0bed7cca"
      },
      "source": [
        "# using validation: y_val\n",
        "print(\"Accuracy=\", accuracy_score(np.array(classes)[y_pred_Bayesian], y_val))"
      ],
      "execution_count": 126,
      "outputs": [
        {
          "output_type": "stream",
          "name": "stdout",
          "text": [
            "Accuracy= 0.9722222222222222\n"
          ]
        }
      ]
    },
    {
      "cell_type": "markdown",
      "metadata": {
        "id": "fsM1A801UsiK"
      },
      "source": [
        "## Selecting different instances\n"
      ]
    },
    {
      "cell_type": "code",
      "metadata": {
        "id": "jL_D_R_4UkeB"
      },
      "source": [
        "y_predB=[]\n",
        "\n",
        "for i in range(X_val.shape[0]):\n",
        "    #print(i)\n",
        "    val=[]\n",
        "\n",
        "    for s in range(posterior['beta'].shape[0]):\n",
        "        beta = np.hstack([np.zeros((nf,1)),  posterior['beta'][s,:] ])\n",
        "        alpha = np.hstack([[0],  posterior['alpha'][s,:] ])\n",
        "        val.append(softmax((np.array([X_val[i,:].dot(beta) + alpha])))[0,:])\n",
        "\n",
        "    #mean probability\n",
        "    valmean = np.mean(val,axis=0)\n",
        "    #class with maximum mean probability\n",
        "    classmax = np.argmax(valmean)\n",
        "    #ranks\n",
        "    ranks = np.array(val.copy())\n",
        "    ranks   = ranks  *0 #init\n",
        "    colmax = np.argmax(np.array(val),axis=1)\n",
        "    ranks[np.arange(0,len(colmax)),colmax]=1\n",
        "     \n",
        "    y_predB.append( [classmax, valmean[classmax], np.std(ranks,axis=0)[classmax]])\n",
        "\n",
        "    \n",
        "y_predB= np.array(y_predB)"
      ],
      "execution_count": 127,
      "outputs": []
    },
    {
      "cell_type": "code",
      "metadata": {
        "colab": {
          "base_uri": "https://localhost:8080/"
        },
        "id": "fkAfB025U7jF",
        "outputId": "27eb4205-42fe-4919-e2b8-d3655cce36f4"
      },
      "source": [
        "# prediction array\n",
        "mm = 10\n",
        "y_predB[0:mm,:]"
      ],
      "execution_count": 128,
      "outputs": [
        {
          "output_type": "execute_result",
          "data": {
            "text/plain": [
              "array([[0.        , 0.99996266, 0.        ],\n",
              "       [1.        , 0.99999993, 0.        ],\n",
              "       [1.        , 0.99999999, 0.        ],\n",
              "       [2.        , 0.61157013, 0.48774994],\n",
              "       [1.        , 0.99956058, 0.        ],\n",
              "       [0.        , 0.52698053, 0.49888765],\n",
              "       [0.        , 0.99890727, 0.        ],\n",
              "       [0.        , 0.99232923, 0.05763872],\n",
              "       [0.        , 0.99050595, 0.08137704],\n",
              "       [0.        , 0.98391904, 0.09949874]])"
            ]
          },
          "metadata": {},
          "execution_count": 128
        }
      ]
    },
    {
      "cell_type": "code",
      "metadata": {
        "colab": {
          "base_uri": "https://localhost:8080/"
        },
        "id": "_cuecC3jU-p6",
        "outputId": "9fe73155-a50f-4284-fd92-a08c78472d2f"
      },
      "source": [
        "#sorting in descending order\n",
        "difficult = np.argsort(-y_predB[:,2])\n",
        "y_predB[difficult[0:mm],:]"
      ],
      "execution_count": 129,
      "outputs": [
        {
          "output_type": "execute_result",
          "data": {
            "text/plain": [
              "array([[1.        , 0.51235573, 0.5       ],\n",
              "       [2.        , 0.5008416 , 0.49995555],\n",
              "       [0.        , 0.47477286, 0.49959984],\n",
              "       [1.        , 0.50724712, 0.49959984],\n",
              "       [1.        , 0.46367783, 0.49909919],\n",
              "       [1.        , 0.46549615, 0.49888765],\n",
              "       [0.        , 0.52698053, 0.49888765],\n",
              "       [2.        , 0.53433481, 0.49839743],\n",
              "       [1.        , 0.53476492, 0.49839743],\n",
              "       [2.        , 0.45775841, 0.49781746]])"
            ]
          },
          "metadata": {},
          "execution_count": 129
        }
      ]
    },
    {
      "cell_type": "code",
      "metadata": {
        "colab": {
          "base_uri": "https://localhost:8080/"
        },
        "id": "4iar7tlUVAkg",
        "outputId": "0f506758-b710-4f48-e258-2e64b166e9e1"
      },
      "source": [
        "y_predB[y_pred_log != y_val,:]"
      ],
      "execution_count": 130,
      "outputs": [
        {
          "output_type": "execute_result",
          "data": {
            "text/plain": [
              "array([[0.        , 0.52698053, 0.49888765],\n",
              "       [1.        , 0.85250253, 0.34698703],\n",
              "       [1.        , 0.98534671, 0.11469767],\n",
              "       [1.        , 0.69863482, 0.46249324],\n",
              "       [0.        , 0.78535913, 0.4       ],\n",
              "       [1.        , 0.98969604, 0.08137704],\n",
              "       [0.        , 0.78206896, 0.40247843],\n",
              "       [1.        , 0.84864724, 0.34349511],\n",
              "       [1.        , 0.89782004, 0.3       ],\n",
              "       [2.        , 0.76688035, 0.42083251],\n",
              "       [1.        , 0.94631468, 0.21794495],\n",
              "       [2.        , 0.34031855, 0.47370877],\n",
              "       [2.        , 0.45775841, 0.49781746],\n",
              "       [2.        , 0.9937162 , 0.05763872],\n",
              "       [1.        , 0.74557578, 0.42083251],\n",
              "       [1.        , 0.65534343, 0.47140452],\n",
              "       [1.        , 0.77674737, 0.41647996],\n",
              "       [1.        , 0.51235573, 0.5       ],\n",
              "       [2.        , 0.99999565, 0.        ],\n",
              "       [2.        , 0.5383361 , 0.49749372],\n",
              "       [0.        , 0.79486252, 0.39747816]])"
            ]
          },
          "metadata": {},
          "execution_count": 130
        }
      ]
    },
    {
      "cell_type": "code",
      "metadata": {
        "colab": {
          "base_uri": "https://localhost:8080/"
        },
        "id": "W5V6p93HVGBd",
        "outputId": "8b407e9b-a93a-4382-b39e-1696430108d5"
      },
      "source": [
        "## Difficult & easy instances\n",
        "\n",
        "easy = np.argsort(y_predB[:,2])\n",
        "print(\"Accuracy in easy instances =\", accuracy_score(y_pred_log[easy[0:100]], y_val[easy[0:100]]))\n",
        "\n",
        "difficult = np.argsort(-y_predB[:,2])\n",
        "print(\"Accuracy in difficult instances =\", accuracy_score(y_pred_log[difficult[0:100]], y_val[difficult[0:100]]))"
      ],
      "execution_count": 131,
      "outputs": [
        {
          "output_type": "stream",
          "name": "stdout",
          "text": [
            "Accuracy in easy instances = 1.0\n",
            "Accuracy in difficult instances = 0.85\n"
          ]
        }
      ]
    },
    {
      "cell_type": "code",
      "metadata": {
        "colab": {
          "base_uri": "https://localhost:8080/",
          "height": 357
        },
        "id": "vfFxBJo0VGpg",
        "outputId": "c9e7edfa-b87b-474b-8647-817ffad3bf8b"
      },
      "source": [
        "# show 10 random 'easy' images\n",
        "fig, axs = plt.subplots(2,5, figsize=(15, 6))\n",
        "fig.subplots_adjust(hspace = .2, wspace=.001)\n",
        "axs = axs.ravel()\n",
        "\n",
        "for i in range(10):\n",
        "    index = easy[i]\n",
        "    image = X_val[index,:].reshape(28,28)\n",
        "    axs[i].axis('off')\n",
        "    axs[i].imshow(image,cmap=\"Greys_r\")\n",
        "    "
      ],
      "execution_count": 135,
      "outputs": [
        {
          "output_type": "display_data",
          "data": {
            "image/png": "[encoded data removed]",
            "text/plain": [
              "<Figure size 1080x432 with 10 Axes>"
            ]
          },
          "metadata": {
            "needs_background": "light"
          }
        }
      ]
    },
    {
      "cell_type": "code",
      "metadata": {
        "colab": {
          "base_uri": "https://localhost:8080/",
          "height": 357
        },
        "id": "IUmmyWfKVK0g",
        "outputId": "075f30d9-22b0-47cf-bd55-24c103be4973"
      },
      "source": [
        "# show 10 random 'difficult' images\n",
        "fig, axs = plt.subplots(2,5, figsize=(15, 6))\n",
        "fig.subplots_adjust(hspace = .2, wspace=.001)\n",
        "axs = axs.ravel()\n",
        "for i in range(10):\n",
        "    index = difficult[i]\n",
        "    image = X_val[index,:].reshape(28,28)\n",
        "    axs[i].axis('off')\n",
        "    axs[i].imshow(image,cmap=\"Greys_r\")\n",
        "    "
      ],
      "execution_count": 136,
      "outputs": [
        {
          "output_type": "display_data",
          "data": {
            "image/png": "[encoded data removed]",
            "text/plain": [
              "<Figure size 1080x432 with 10 Axes>"
            ]
          },
          "metadata": {
            "needs_background": "light"
          }
        }
      ]
    },
    {
      "cell_type": "markdown",
      "metadata": {
        "id": "Ll8gRSzZTgDs"
      },
      "source": [
        "**Remove the most difficult instances from General receipe ML**"
      ]
    },
    {
      "cell_type": "markdown",
      "metadata": {
        "id": "t3vGPNYiWHKQ"
      },
      "source": [
        "**Re-run the model without the difficult images**"
      ]
    },
    {
      "cell_type": "markdown",
      "metadata": {
        "id": "lLukvj-jWPFE"
      },
      "source": [
        "**Compare the accuracy**"
      ]
    },
    {
      "cell_type": "markdown",
      "metadata": {
        "id": "NcshsLOGRPrk"
      },
      "source": [
        "## Summary"
      ]
    },
    {
      "cell_type": "markdown",
      "metadata": {
        "id": "XTc4pYKGRR60"
      },
      "source": [
        "Populate this section with all of your findings and comments fron the discussion with your peers.\n",
        "\n",
        "\n",
        "\n",
        " **WIP**\n",
        "\n",
        "References:\n",
        "\n",
        "\n",
        "\n",
        "https://machinelearningmastery.com/roc-curves-and-precision-recall-curves-for-classification-in-python/ \n",
        "\n",
        "https://scikit-learn.org/stable/auto_examples/model_selection/plot_confusion_matrix.html\n",
        "\n",
        "https://stackoverflow.com/questions/39770376/scikit-learn-get-accuracy-scores-for-each-class"
      ]
    }
  ]
}