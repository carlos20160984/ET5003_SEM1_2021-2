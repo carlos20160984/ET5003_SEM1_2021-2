{
  "nbformat": 4,
  "nbformat_minor": 0,
  "metadata": {
    "colab": {
      "name": "Etivity_1_Carlos Santiago.ipynb",
      "provenance": [],
      "collapsed_sections": [],
      "include_colab_link": true
    },
    "kernelspec": {
      "name": "python3",
      "display_name": "Python 3"
    },
    "language_info": {
      "name": "python"
    }
  },
  "cells": [
    {
      "cell_type": "markdown",
      "metadata": {
        "id": "view-in-github",
        "colab_type": "text"
      },
      "source": [
        "<a href=\"https://colab.research.google.com/github/carlos20160984/ET5003_SEM1_2021-2/blob/main/Etivity_1_Carlos_Santiago.ipynb\" target=\"_parent\"><img src=\"https://colab.research.google.com/assets/colab-badge.svg\" alt=\"Open In Colab\"/></a>"
      ]
    },
    {
      "cell_type": "markdown",
      "metadata": {
        "id": "jxK1_8f1dvrc"
      },
      "source": [
        "<div>\n",
        "<img src=\"https://drive.google.com/uc?export=view&id=1vK33e_EqaHgBHcbRV_m38hx6IkG0blK_\" width=\"350\"/>\n",
        "</div> \n",
        "\n",
        "#**Artificial Intelligence - MSc**\n",
        "ET5003 - MACHINE LEARNING APPLICATIONS \n",
        "\n",
        "###Instructor: Enrique Naredo\n",
        "###ET5003_Etivity-1"
      ]
    },
    {
      "cell_type": "code",
      "metadata": {
        "id": "LqXD_IwUQuBF",
        "cellView": "form"
      },
      "source": [
        "#@title Current Date\n",
        "Today = '2021-08-22' #@param {type:\"date\"}\n"
      ],
      "execution_count": 76,
      "outputs": []
    },
    {
      "cell_type": "code",
      "metadata": {
        "id": "uzDKau31OjVO",
        "cellView": "form"
      },
      "source": [
        "#@markdown ---\n",
        "#@markdown ### Enter your details here:\n",
        "Student_ID = \"20160984\" #@param {type:\"string\"}\n",
        "Student_full_name = \"Carlos Santiago\" #@param {type:\"string\"}\n",
        "#@markdown ---"
      ],
      "execution_count": 77,
      "outputs": []
    },
    {
      "cell_type": "code",
      "metadata": {
        "id": "r39xGZckTpKx",
        "cellView": "form"
      },
      "source": [
        "#@title Notebook information\n",
        "Notebook_type = 'Example' #@param [\"Example\", \"Lab\", \"Practice\", \"Etivity\", \"Assignment\", \"Exam\"]\n",
        "Version = 'Draft' #@param [\"Draft\", \"Final\"] {type:\"raw\"}\n",
        "Submission = False #@param {type:\"boolean\"}"
      ],
      "execution_count": 78,
      "outputs": []
    },
    {
      "cell_type": "markdown",
      "metadata": {
        "id": "80m304lUefG4"
      },
      "source": [
        "## MNIST dataset"
      ]
    },
    {
      "cell_type": "markdown",
      "metadata": {
        "id": "Bs8mHGcidHSa"
      },
      "source": [
        "\n",
        "\n",
        "The MNIST database  is a dataset of handwritten digits that has been and is extensively used in machine learning. There are $10$ classes, each image is $28\\times28$ pixels and, therefore, each input is $x_i\\in\\mathbb{R}^{784}$. "
      ]
    },
    {
      "cell_type": "markdown",
      "metadata": {
        "id": "ailycCq5epj2"
      },
      "source": [
        "## Task"
      ]
    },
    {
      "cell_type": "markdown",
      "metadata": {
        "id": "a-yNAxhUemjM"
      },
      "source": [
        "You have to extend the code to manage any arbitrary number of classes, in other words you have to implement a general-recipe multinomial logistic classifier and Bayesian multinomial logistic classifier.\n",
        "\n",
        "You must then select  3 digits at random and perform  the following task. \n",
        "\n",
        "1. Your goal is to use Bayesian multinomial logistic regression (as in the road-sign notebook) to solve this classification problem. \n",
        "\n",
        "2. You can downsize the training dataset (e.g., 40% training and 60%testing) if the computation of the posterior takes too much time in your computer.\n",
        "\n",
        "3. Use the posterior uncertainty to detect the instances (digits) in the test set that are hard to classify and remove them from the test-set.\n",
        "\n",
        "4. Then you need to compute again the accuracy of the general-recipe logistic regression on the remaining (non-difficult) instances and comment on the result.\n",
        "\n",
        "5. In practice, the task is to use uncertainty estimation to detect the difficult instances in the test-set. This is equivalent to refuse to classify all high-uncertainty instances or, in other words, when we are uncertain we say \"I don't know\" and we do not return any class. In this way, you will learn how uncertainty can be used to make safer decisions, by detecting the instances that are difficult to classify.\n"
      ]
    },
    {
      "cell_type": "markdown",
      "metadata": {
        "id": "nMRKRTQZe5fW"
      },
      "source": [
        "## Libraries"
      ]
    },
    {
      "cell_type": "code",
      "metadata": {
        "id": "IxusAui7AX_f"
      },
      "source": [
        "# Suppressing Warnings:\n",
        "import warnings\n",
        "warnings.filterwarnings(\"ignore\")"
      ],
      "execution_count": 79,
      "outputs": []
    },
    {
      "cell_type": "code",
      "metadata": {
        "id": "MQOfGMQpdHSb"
      },
      "source": [
        "# Import libraries\n",
        "from sklearn.linear_model import LogisticRegression\n",
        "from sklearn.metrics import accuracy_score\n",
        "from sklearn.model_selection import train_test_split\n",
        "import scipy.optimize as optimize\n",
        "from scipy.special import erf\n",
        "import pandas as pd\n",
        "import numpy as np\n",
        "import seaborn as sns\n",
        "from tqdm import tqdm\n",
        "from skimage.io import imread, imshow\n",
        "import matplotlib.image as mpimg\n",
        "import matplotlib.pyplot as plt\n",
        "import matplotlib\n",
        "%matplotlib inline\n",
        "import arviz as az\n",
        "from scipy.io import loadmat\n",
        "import pymc3 as pm\n",
        "import random\n",
        "from IPython.display import HTML\n",
        "import pickle\n",
        "import theano as tt\n",
        "import cv2\n",
        "from sklearn.utils import shuffle\n",
        "from skimage.color import rgb2gray"
      ],
      "execution_count": 80,
      "outputs": []
    },
    {
      "cell_type": "code",
      "metadata": {
        "id": "P5-qMSjpAQ-9"
      },
      "source": [
        "# Setting a seed:\n",
        "np.random.seed(123)"
      ],
      "execution_count": 81,
      "outputs": []
    },
    {
      "cell_type": "markdown",
      "metadata": {
        "id": "r4hSuwkUfVQb"
      },
      "source": [
        "## Dataset"
      ]
    },
    {
      "cell_type": "markdown",
      "metadata": {
        "id": "w99Pc66YdHSd"
      },
      "source": [
        "### Loading the MNIST dataset"
      ]
    },
    {
      "cell_type": "code",
      "metadata": {
        "colab": {
          "base_uri": "https://localhost:8080/"
        },
        "id": "CYFWAbXVzynp",
        "outputId": "f7549256-cba5-4549-a8e8-f1b6b117923d"
      },
      "source": [
        "from google.colab import drive\n",
        "drive.mount('/content/drive')"
      ],
      "execution_count": 82,
      "outputs": [
        {
          "output_type": "stream",
          "name": "stdout",
          "text": [
            "Drive already mounted at /content/drive; to attempt to forcibly remount, call drive.mount(\"/content/drive\", force_remount=True).\n"
          ]
        }
      ]
    },
    {
      "cell_type": "code",
      "metadata": {
        "colab": {
          "base_uri": "https://localhost:8080/"
        },
        "id": "szMEBjKErNGB",
        "outputId": "947284c3-b208-4896-f7cc-c1e5f5fb0e03"
      },
      "source": [
        "Path = '/content/drive/MyDrive/etivity-1/'\n",
        "\n",
        "# MNIST Data\n",
        "train_data = Path + 'mnist_train.csv'\n",
        "test_data = Path + 'mnist_test.csv'\n",
        "\n",
        "# train data\n",
        "df_train = pd.read_csv(train_data)\n",
        "X_train = df_train.drop(\"label\",axis=1).values\n",
        "y_train = df_train.label.values\n",
        "print(X_train.shape)\n",
        "\n",
        "# test data\n",
        "df_test = pd.read_csv(test_data)\n",
        "X_test = df_test.drop(\"label\",axis=1).values\n",
        "y_test = df_test.label.values\n",
        "print(X_test.shape)"
      ],
      "execution_count": 163,
      "outputs": [
        {
          "output_type": "stream",
          "name": "stdout",
          "text": [
            "(60000, 784)\n",
            "(10000, 784)\n"
          ]
        }
      ]
    },
    {
      "cell_type": "code",
      "metadata": {
        "colab": {
          "base_uri": "https://localhost:8080/"
        },
        "id": "O2ubJ_WoAqBh",
        "outputId": "f7294a25-5fd7-46b5-aceb-49070adc3295"
      },
      "source": [
        "# Normalizing the Inputs:\n",
        "X_train = X_train/255\n",
        "X_test = X_test/255\n",
        "\n",
        "# Printing the new input range of values:\n",
        "minv = np.min(X_train)\n",
        "maxv = np.max(X_train)\n",
        "print(minv,maxv)"
      ],
      "execution_count": 164,
      "outputs": [
        {
          "output_type": "stream",
          "name": "stdout",
          "text": [
            "0.0 1.0\n"
          ]
        }
      ]
    },
    {
      "cell_type": "markdown",
      "metadata": {
        "id": "SR6HpkWndHSe"
      },
      "source": [
        "### Description of Data:"
      ]
    },
    {
      "cell_type": "code",
      "metadata": {
        "colab": {
          "base_uri": "https://localhost:8080/"
        },
        "id": "sibN1Vv1dHSf",
        "outputId": "826907a2-6723-4f5f-f17a-42df26788e80"
      },
      "source": [
        "# Number of examples\n",
        "n_train =  len(X_train)\n",
        "n_test =  len(X_test)\n",
        "\n",
        "# Shape of an traffic sign image\n",
        "image_shape = X_train.shape[1]\n",
        "\n",
        "# unique classes/labels in the training dataset.\n",
        "alltotal = set(y_train)\n",
        "n_classes = len(alltotal)\n",
        "\n",
        "print(\"Number of Training examples =\", n_train)\n",
        "print(\"Number of Test examples =\", n_test)\n",
        "print(\"Image input shape =\", image_shape)\n",
        "print(\"Number of classes =\", n_classes)"
      ],
      "execution_count": 165,
      "outputs": [
        {
          "output_type": "stream",
          "name": "stdout",
          "text": [
            "Number of Training examples = 60000\n",
            "Number of Test examples = 10000\n",
            "Image input shape = 784\n",
            "Number of classes = 10\n"
          ]
        }
      ]
    },
    {
      "cell_type": "markdown",
      "metadata": {
        "id": "6HQDSvrRKZF6"
      },
      "source": [
        "### Class Distribution:"
      ]
    },
    {
      "cell_type": "code",
      "metadata": {
        "id": "XG8GdlpBKdCt",
        "colab": {
          "base_uri": "https://localhost:8080/",
          "height": 295
        },
        "outputId": "b2dd3157-1310-4c4c-9d19-f1017cf0d6f4"
      },
      "source": [
        "fig, ax = plt.subplots()\n",
        "ind = np.arange(n_classes)\n",
        "\n",
        "n, bins, patches = ax.hist(y_train, ec='black', align='mid')\n",
        "ax.set_xlabel('classes')\n",
        "ax.set_ylabel('counts')\n",
        "ax.set_title(r'Histogram of Digit images')\n",
        "plt.show()"
      ],
      "execution_count": 166,
      "outputs": [
        {
          "output_type": "display_data",
          "data": {
            "image/png": "[encoded data removed]",
            "text/plain": [
              "<Figure size 432x288 with 1 Axes>"
            ]
          },
          "metadata": {
            "needs_background": "light"
          }
        }
      ]
    },
    {
      "cell_type": "markdown",
      "metadata": {
        "id": "ZMZbkpP4KmPj"
      },
      "source": [
        "#### Display one sample of each digit\n"
      ]
    },
    {
      "cell_type": "code",
      "metadata": {
        "colab": {
          "base_uri": "https://localhost:8080/",
          "height": 292
        },
        "id": "wb1XiPVRLKDt",
        "outputId": "50e140fa-eefa-41ec-aab4-5e18c125bba4"
      },
      "source": [
        "# initialize a null list for distinct digits\n",
        "\n",
        "distinct_labels = []\n",
        "sample_vector = []\n",
        "for x in range(len(y_train)):\n",
        "  if y_train[x] not in distinct_labels: \n",
        "    distinct_labels.append(y_train[x])\n",
        "    sample_vector.append(X_train[x])\n",
        "\n",
        "Z = [x for _,x in sorted(zip(distinct_labels,sample_vector))] # Sort sample vector based on ordered labels\n",
        "\n",
        "# Plotting 'original' image\n",
        "plt.figure(figsize=(10,10))\n",
        "plot_digits(Z ,images_per_row=5)\n",
        "plt.title(\"One sample of each digit\", fontsize=20)\n",
        "       \n",
        "   \n",
        "\n",
        "    "
      ],
      "execution_count": 167,
      "outputs": [
        {
          "output_type": "execute_result",
          "data": {
            "text/plain": [
              "Text(0.5, 1.0, 'One sample of each digit')"
            ]
          },
          "metadata": {},
          "execution_count": 167
        },
        {
          "output_type": "display_data",
          "data": {
            "image/png": "[encoded data removed]",
            "text/plain": [
              "<Figure size 720x720 with 1 Axes>"
            ]
          },
          "metadata": {
            "needs_background": "light"
          }
        }
      ]
    },
    {
      "cell_type": "markdown",
      "metadata": {
        "id": "EyLWw3nsLCtk"
      },
      "source": [
        "## Downsampling"
      ]
    },
    {
      "cell_type": "markdown",
      "metadata": {
        "id": "2U1lFEwhLKBf"
      },
      "source": [
        "### Randomly selecting 3 of the 10 Digit Classes"
      ]
    },
    {
      "cell_type": "code",
      "metadata": {
        "id": "0EeRZZWdLRPT",
        "colab": {
          "base_uri": "https://localhost:8080/"
        },
        "outputId": "afcf0c39-cc07-465d-d4c0-b11db484628e"
      },
      "source": [
        "# We select the number of Classes we want:\n",
        "n_classes = 3\n",
        "\n",
        "# Empty list to append the random digit classes we select:\n",
        "classes = []\n",
        "\n",
        "# We select 3 digits at random and make sure they are unique:\n",
        "while len(classes) < 3:\n",
        "    \n",
        "    # Randomly drawing a digit from 0-9:\n",
        "    num2choose = np.random.randint(0,10)\n",
        "\n",
        "    # Append the digit if it's not already in our list of classes:\n",
        "    if num2choose not in classes: \n",
        "        classes.append(num2choose)\n",
        "        \n",
        "        \n",
        "# Sorting the Classes smallest to largest    \n",
        "classes.sort()\n",
        "# print classes selected\n",
        "classes"
      ],
      "execution_count": 170,
      "outputs": [
        {
          "output_type": "execute_result",
          "data": {
            "text/plain": [
              "[0, 2, 7]"
            ]
          },
          "metadata": {},
          "execution_count": 170
        }
      ]
    },
    {
      "cell_type": "code",
      "metadata": {
        "id": "2M8R5NqKMB_M"
      },
      "source": [
        "# The number of instances we'll keep for each of our 3 digits:\n",
        "inst_class = 1500\n",
        "\n",
        "inputs=[]\n",
        "labels=[]\n",
        "# Loop to randomly sample the instances for each digit:\n",
        "for r in classes:\n",
        "    imgs = X_train[np.where(y_train==r)[0],:]\n",
        "    inputs.append(imgs[np.random.permutation(imgs.shape[0]),:][0:inst_class,:])\n",
        "    labels.append(np.ones(inst_class)*r)\n",
        "    \n",
        "# Shaping inputs and labels in the right format    \n",
        "X_train = np.vstack(inputs).astype(np.float64)\n",
        "y_train = np.hstack(labels)\n"
      ],
      "execution_count": 171,
      "outputs": []
    },
    {
      "cell_type": "markdown",
      "metadata": {
        "id": "_6-YHrQQMicy"
      },
      "source": [
        "New Classes Distribution"
      ]
    },
    {
      "cell_type": "code",
      "metadata": {
        "id": "RA300COaMxWm",
        "colab": {
          "base_uri": "https://localhost:8080/",
          "height": 295
        },
        "outputId": "489ab649-d4ce-4cec-a1fa-5b092924bc01"
      },
      "source": [
        "# new histogram\n",
        "# Exactly same histogram of above\n",
        "\n",
        "fig, ax = plt.subplots()\n",
        "ind = np.arange(n_classes)\n",
        "\n",
        "n, bins, patches = ax.hist(y_train, ec='black', align='mid')\n",
        "ax.set_xlabel('classes')\n",
        "ax.set_ylabel('counts')\n",
        "ax.set_title(r'Histogram of Digit images')\n",
        "plt.show()\n",
        "\n"
      ],
      "execution_count": 172,
      "outputs": [
        {
          "output_type": "display_data",
          "data": {
            "image/png": "[encoded data removed]",
            "text/plain": [
              "<Figure size 432x288 with 1 Axes>"
            ]
          },
          "metadata": {
            "needs_background": "light"
          }
        }
      ]
    },
    {
      "cell_type": "code",
      "metadata": {
        "id": "eFgP4xugMvJm"
      },
      "source": [
        "# plot digits\n",
        "def plot_digits(instances, images_per_row=5, **options):\n",
        "    size = 28\n",
        "    images_per_row = min(len(instances), images_per_row)\n",
        "    images = [instance.reshape(size,size) for instance in instances]\n",
        "    n_rows = (len(instances) - 1) // images_per_row + 1\n",
        "    row_images = []\n",
        "    n_empty = n_rows * images_per_row - len(instances)\n",
        "    images.append(np.zeros((size, size * n_empty)))\n",
        "    for row in range(n_rows):\n",
        "        rimages = images[row * images_per_row : (row + 1) * images_per_row]\n",
        "        row_images.append(np.concatenate(rimages, axis=1))\n",
        "    image = np.concatenate(row_images, axis=0)\n",
        "    plt.imshow(image,  cmap='gist_yarg', **options)\n",
        "    plt.axis(\"off\")"
      ],
      "execution_count": 173,
      "outputs": []
    },
    {
      "cell_type": "markdown",
      "metadata": {
        "id": "2QgbdRl15xkz"
      },
      "source": [
        "### Plot training data"
      ]
    },
    {
      "cell_type": "code",
      "metadata": {
        "id": "zeEG-LGOM4fJ",
        "colab": {
          "base_uri": "https://localhost:8080/",
          "height": 214
        },
        "outputId": "1eea26a5-5539-4dd2-88d4-53c1de35b52c"
      },
      "source": [
        "# Show a few instances from each Digit:\n",
        "plt.figure(figsize=(8,8))\n",
        "\n",
        "# Selecting a few label indices from each of the 3 classes to show:\n",
        "\n",
        "randomlist = random.sample(range(0, len(X_train)), 27)  # Generate 27 images, 9 per now \n",
        "\n",
        "# Plotting 'original' image\n",
        "plot_digits(X_train[randomlist,:],images_per_row=9)\n",
        "plt.title(\"Original\", fontsize=14)"
      ],
      "execution_count": 174,
      "outputs": [
        {
          "output_type": "execute_result",
          "data": {
            "text/plain": [
              "Text(0.5, 1.0, 'Original')"
            ]
          },
          "metadata": {},
          "execution_count": 174
        },
        {
          "output_type": "display_data",
          "data": {
            "image/png": "[encoded data removed]",
            "text/plain": [
              "<Figure size 576x576 with 1 Axes>"
            ]
          },
          "metadata": {
            "needs_background": "light"
          }
        }
      ]
    },
    {
      "cell_type": "markdown",
      "metadata": {
        "id": "FsAOnOcNNG_V"
      },
      "source": [
        "###  Splitting the Training data into both Training and Validation Sets:\n",
        "\n",
        "- Although this is the Training set, we can still set aside some samples (for instance 20%) of the 1,500 instances we have for Model Validation purposes.\n",
        "\n",
        "\n",
        "- With that Validation Set, we can then select the amount of Uncertainty we are happy with from our Model to use out of sample on other unseen data.\n",
        "\n",
        "\n",
        "- We can then test out how well our decision performs on the Test Set that we put aside earlier."
      ]
    },
    {
      "cell_type": "code",
      "metadata": {
        "id": "YdsmyVAtPXNn"
      },
      "source": [
        "### Split tha dataset in training and validation sets\n",
        "# choose the fraction of your validation data from the training set\n",
        "w = 0.20\n",
        "X_train, X_val, y_train, y_val = train_test_split(X_train, y_train, test_size=w, random_state=0)\n",
        " \n",
        "# Shuffling the training instaces around to randomize the order of inputs to the model:\n",
        "X_train, y_train = shuffle(X_train, y_train)"
      ],
      "execution_count": 175,
      "outputs": []
    },
    {
      "cell_type": "code",
      "metadata": {
        "id": "qXwJwP0iPxhi",
        "colab": {
          "base_uri": "https://localhost:8080/"
        },
        "outputId": "544ad873-df7b-4e3a-b092-c206df45e646"
      },
      "source": [
        "# print shape of your validation and training set\n",
        "\n",
        "print(\"SHAPES OF TRAINING AND VALIDATION SETS\\n\")\n",
        "print(\"Shape of X training set: \",X_train.shape)\n",
        "print(\"Shape of X validation set: \",X_val.shape)\n",
        "print(\"Shape of Y training set: \",y_train.shape)\n",
        "print(\"Shape of Y validation set: \",y_val.shape)\n"
      ],
      "execution_count": 183,
      "outputs": [
        {
          "output_type": "stream",
          "name": "stdout",
          "text": [
            "SHAPES OF TRAINING AND VALIDATION SETS\n",
            "\n",
            "Shape of X training set:  (3600, 784)\n",
            "Shape of X validation set:  (900, 784)\n",
            "Shape of Y training set:  (3600,)\n",
            "Shape of Y validation set:  (900,)\n"
          ]
        }
      ]
    },
    {
      "cell_type": "markdown",
      "metadata": {
        "id": "aOroY1QoP8DY"
      },
      "source": [
        "### Encoding the Class labels for the Probabilistic ML Model:\n",
        "\n",
        "This is an example:\n",
        "\n",
        "- **[1,0,0]** for first digit\n",
        "- **[0,1,0]** for second digit\n",
        "- **[0,0,1]** for third digit"
      ]
    },
    {
      "cell_type": "markdown",
      "metadata": {
        "id": "rjUaqWTqQIcp"
      },
      "source": [
        "### General-Recipe ML"
      ]
    },
    {
      "cell_type": "code",
      "metadata": {
        "id": "QzgdivxfQNv5",
        "colab": {
          "base_uri": "https://localhost:8080/"
        },
        "outputId": "c32676f8-2dbe-46f7-f5c1-3509a7bba40c"
      },
      "source": [
        "# model\n",
        "model_log = LogisticRegression(random_state=0, max_iter=2000, C=100, solver='lbfgs', multi_class='multinomial').fit(X_train, y_train)\n",
        "\n",
        "# Classification:\n",
        "y_pred_log = model_log.predict(X_val)\n",
        "y_pred_logi_prob = model_log.predict_proba(X_val)\n",
        "\n",
        "# Maybe taking the maximum probability \n",
        "prob_classmax = np.max(y_pred_logi_prob,axis=1)\n",
        "# in any of the classes for each observation\n",
        "\n",
        "# Categories\n",
        "classes = model_log.classes_\n",
        "print(\"Input data are classified into three categories:\",classes)\n",
        "\n",
        "# Computing the Accuracy:\n",
        "print(\"Accuracy=\", accuracy_score(y_pred_log,y_val))\n",
        "\n"
      ],
      "execution_count": 177,
      "outputs": [
        {
          "output_type": "stream",
          "name": "stdout",
          "text": [
            "Input data are classified into three categories: [0. 2. 7.]\n",
            "Accuracy= 0.97\n"
          ]
        }
      ]
    },
    {
      "cell_type": "markdown",
      "metadata": {
        "id": "k3PiDUNseERu"
      },
      "source": [
        "### Model Performance"
      ]
    },
    {
      "cell_type": "markdown",
      "metadata": {
        "id": "jlLojYV5kVby"
      },
      "source": [
        "Classification evaluation is nicely explained in the blog *How to Use ROC Curves and Precision-Recall Curves for Classification in Python*\n",
        "\n",
        "Main metrics:\n",
        "\n",
        "**Precision** = True Positives / (True Positives + False Positives)\n",
        "\n",
        "**Recall** = True Positives / (True Positives + False Negatives)\n",
        "\n",
        "**F1-score** = Calculates the harmonic mean of the precision and recall\n",
        "\n",
        "**Support** = actual occurrences of the class in the specified dataset\n",
        "\n",
        "-\n",
        "\n",
        "The blog *Understanding a Classification Report For Your Machine Learning Model* explains the **classification report** in details.\n",
        "\n",
        "\n",
        "The below section evaluates the performance of the classifier on each individual class using classification report from *sklearn*"
      ]
    },
    {
      "cell_type": "code",
      "metadata": {
        "colab": {
          "base_uri": "https://localhost:8080/"
        },
        "id": "ZkxYX_M2eJ6C",
        "outputId": "48677026-0341-45ca-e929-b27d380e4a02"
      },
      "source": [
        "from sklearn.metrics import classification_report\n",
        "from sklearn.metrics import accuracy_score\n",
        "\n",
        "y_true = y_val\n",
        "y_pred = y_pred_log\n",
        "\n",
        "target_names = []\n",
        "for x in classes:\n",
        "  target_names.append(\"digit \"+str(x))\n",
        "\n",
        "print(classification_report(y_true, y_pred, target_names=target_names, digits=4))\n"
      ],
      "execution_count": 184,
      "outputs": [
        {
          "output_type": "stream",
          "name": "stdout",
          "text": [
            "              precision    recall  f1-score   support\n",
            "\n",
            "   digit 0.0     0.9733    0.9701    0.9717       301\n",
            "   digit 2.0     0.9641    0.9578    0.9609       308\n",
            "   digit 7.0     0.9728    0.9828    0.9778       291\n",
            "\n",
            "    accuracy                         0.9700       900\n",
            "   macro avg     0.9701    0.9702    0.9701       900\n",
            "weighted avg     0.9700    0.9700    0.9700       900\n",
            "\n"
          ]
        }
      ]
    },
    {
      "cell_type": "markdown",
      "metadata": {
        "id": "3uQG6JsOQxH5"
      },
      "source": [
        "### Probabilistic Multinomial Logistic Regression:"
      ]
    },
    {
      "cell_type": "markdown",
      "metadata": {
        "id": "irlmUNw7Q5YL"
      },
      "source": [
        "The Multinomial Logistic Regression has some parameters:\n",
        "\n",
        "- $\\alpha$, which is the intercept term:\n",
        "\n",
        "- $\\beta$, which is a vector of coefficients which give a weighting to the importance of each input feature:\n"
      ]
    },
    {
      "cell_type": "code",
      "metadata": {
        "id": "1o7mbKWmRhz5"
      },
      "source": [
        "import sklearn.preprocessing\n",
        "## We use LabelBinarizer to transfor classes into counts\n",
        "# neg_label=0, pos_label=1 \n",
        "y_2_bin = sklearn.preprocessing.LabelBinarizer().fit_transform(y_train.reshape(-1,1))\n",
        "nf = X_train.shape[1]\n",
        "# number of classes\n",
        "nc = len(classes)\n",
        "# floatX = float32\n",
        "floatX = tt.config.floatX\n",
        "\n",
        "init_b = np.random.randn(nf, nc-1).astype(floatX)\n",
        "init_a = np.random.randn(nc-1).astype(floatX)\n",
        "\n",
        "\n",
        "with pm.Model() as multi_logistic:\n",
        "    # Prior\n",
        "    β = pm.Normal('beta', 0, sigma=100, shape=(nf, nc-1), testval=init_b)\n",
        "    α = pm.Normal('alpha', 0, sigma=100, shape=(nc-1,), testval=init_a)\n",
        "    \n",
        "    # we need to consider nc-1 features because the model is not identifiable\n",
        "    # the softmax turns a vector into a probability that sums up to one\n",
        "    # therefore we add zeros to go back to dimension nc\n",
        "    # so that softmax returns a vector of dimension nc\n",
        "    β1  = tt.tensor.concatenate([np.zeros((nf,1)),β ],axis=1)\n",
        "    α1  = tt.tensor.concatenate([[0],α ],)\n",
        "    \n",
        "    # Likelihood\n",
        "    mu = pm.math.matrix_dot(X_train,β1) + α1\n",
        "    # It doesn't work if the problem is binary\n",
        "    p = tt.tensor.nnet.nnet.softmax(mu)\n",
        "    observed = pm.Multinomial('likelihood', p=p, n=1, observed=y_2_bin)"
      ],
      "execution_count": 185,
      "outputs": []
    },
    {
      "cell_type": "code",
      "metadata": {
        "id": "aj6Uzc05Rhtr",
        "colab": {
          "base_uri": "https://localhost:8080/",
          "height": 54
        },
        "outputId": "f4b21bc0-02d0-469c-b0bd-1dcda3fa97c9"
      },
      "source": [
        "with multi_logistic:\n",
        "   approx = pm.fit(10000, method='advi')\n"
      ],
      "execution_count": 187,
      "outputs": [
        {
          "output_type": "display_data",
          "data": {
            "text/html": [
              "\n",
              "    <div>\n",
              "        <style>\n",
              "            /* Turns off some styling */\n",
              "            progress {\n",
              "                /* gets rid of default border in Firefox and Opera. */\n",
              "                border: none;\n",
              "                /* Needs to be in here for Safari polyfill so background images work as expected. */\n",
              "                background-size: auto;\n",
              "            }\n",
              "            .progress-bar-interrupted, .progress-bar-interrupted::-webkit-progress-bar {\n",
              "                background: #F44336;\n",
              "            }\n",
              "        </style>\n",
              "      <progress value='10000' class='' max='10000' style='width:300px; height:20px; vertical-align: middle;'></progress>\n",
              "      100.00% [10000/10000 03:28<00:00 Average Loss = 6,553.3]\n",
              "    </div>\n",
              "    "
            ],
            "text/plain": [
              "<IPython.core.display.HTML object>"
            ]
          },
          "metadata": {}
        },
        {
          "output_type": "stream",
          "name": "stderr",
          "text": [
            "Finished [100%]: Average Loss = 6,551.6\n"
          ]
        }
      ]
    },
    {
      "cell_type": "code",
      "metadata": {
        "colab": {
          "base_uri": "https://localhost:8080/",
          "height": 475
        },
        "id": "LrE382KSjLJb",
        "outputId": "e5bb8ac5-5531-4ff4-c203-cf673c35ba5a"
      },
      "source": [
        "# Plot the average loss over all iterations\n",
        "plt.rcParams['figure.figsize'] = [14,7] # Set figure size\n",
        "plt.plot(approx.hist)\n",
        "plt.title('Loss over iterations')\n",
        "plt.ylabel(\"Loss\")\n",
        "plt.xlabel(\"# iterations\")"
      ],
      "execution_count": 193,
      "outputs": [
        {
          "output_type": "execute_result",
          "data": {
            "text/plain": [
              "Text(0.5, 0, '# iterations')"
            ]
          },
          "metadata": {},
          "execution_count": 193
        },
        {
          "output_type": "display_data",
          "data": {
            "image/png": "[encoded data removed]",
            "text/plain": [
              "<Figure size 1008x504 with 1 Axes>"
            ]
          },
          "metadata": {
            "needs_background": "light"
          }
        }
      ]
    },
    {
      "cell_type": "code",
      "metadata": {
        "id": "2MFH4gwlRhrB"
      },
      "source": [
        "dd = 300\n",
        "posterior = approx.sample(draws=dd)"
      ],
      "execution_count": 194,
      "outputs": []
    },
    {
      "cell_type": "code",
      "metadata": {
        "id": "WNmJvYc4Rho7",
        "colab": {
          "base_uri": "https://localhost:8080/",
          "height": 296
        },
        "outputId": "5f31a1dc-e6f2-484a-ba09-93978a569d11"
      },
      "source": [
        "## The softmax function transforms each element of a collection by computing the exponential\n",
        "#  of each element divided by the sum of the exponentials of all the elements.\n",
        "from scipy.special import softmax\n",
        "from keras.preprocessing import image\n",
        "\n",
        "#select an image in the test set\n",
        "i = 10 \n",
        "#i = random.randint(0, dd)\n",
        "\n",
        "#select a sample in the posterior\n",
        "s = 100 \n",
        "#s = random.randint(0, dd)\n",
        "\n",
        "\n",
        "beta  = np.hstack([np.zeros((nf,1)),  posterior['beta'][s,:] ])\n",
        "alpha = np.hstack([[0],  posterior['alpha'][s,:] ])\n",
        "image = X_val[i,:].reshape(28,28) # Image shape is 28x28 = 784\n",
        "\n",
        "plt.figure(figsize=(3,3))\n",
        "plt.imshow(image,cmap=\"Greys_r\")\n",
        "np.set_printoptions(suppress=True)\n",
        "\n",
        "print(\"test image #\" + str(i))\n",
        "print(\"posterior sample #\" + str(s))\n",
        "print(\"true class=\", y_val[i])\n",
        "print(\"classes: \" + str(classes))\n",
        "print(\"estimated prob=\",softmax((np.array([X_val[i,:].dot(beta) + alpha])))[0,:])"
      ],
      "execution_count": 197,
      "outputs": [
        {
          "output_type": "stream",
          "name": "stdout",
          "text": [
            "test image #10\n",
            "posterior sample #100\n",
            "true class= 2.0\n",
            "classes: [0. 2. 7.]\n",
            "estimated prob= [0. 1. 0.]\n"
          ]
        },
        {
          "output_type": "display_data",
          "data": {
            "image/png": "[encoded data removed]",
            "text/plain": [
              "<Figure size 216x216 with 1 Axes>"
            ]
          },
          "metadata": {
            "needs_background": "light"
          }
        }
      ]
    },
    {
      "cell_type": "code",
      "metadata": {
        "id": "XXh5GXJsRhmr"
      },
      "source": [
        "# Bayesian prediction\n",
        "# return the class that has the highest posterior probability\n",
        "y_pred_Bayesian=[]\n",
        "\n",
        "for i in range(X_val.shape[0]):\n",
        "    val=np.zeros((1,len(classes)))\n",
        "    \n",
        "    for s in range(posterior['beta'].shape[0]):\n",
        "        beta = np.hstack([np.zeros((nf,1)),  posterior['beta'][s,:] ])\n",
        "        alpha = np.hstack([[0],  posterior['alpha'][s,:] ])     \n",
        "        val = val + softmax((np.array([X_val[i,:].dot(beta) + alpha])))\n",
        "    \n",
        "    mean_probability = val/posterior['beta'].shape[0]\n",
        "    y_pred_Bayesian.append( np.argmax(mean_probability))\n"
      ],
      "execution_count": 198,
      "outputs": []
    },
    {
      "cell_type": "code",
      "metadata": {
        "id": "S-sibMlOR2dl"
      },
      "source": [
        "# print(y_pred_Bayesian)"
      ],
      "execution_count": 199,
      "outputs": []
    },
    {
      "cell_type": "code",
      "metadata": {
        "colab": {
          "base_uri": "https://localhost:8080/"
        },
        "id": "oG9Ts79CTtOh",
        "outputId": "bc34f404-0894-445c-8056-53347f0304a5"
      },
      "source": [
        "# prediction array (using classes)\n",
        "n = 100 # Just an sample\n",
        "np.array(classes)[y_pred_Bayesian[0:n]]"
      ],
      "execution_count": 200,
      "outputs": [
        {
          "output_type": "execute_result",
          "data": {
            "text/plain": [
              "array([0., 2., 2., 2., 2., 0., 0., 0., 0., 0., 2., 7., 2., 0., 7., 2., 0.,\n",
              "       7., 2., 2., 2., 2., 2., 2., 2., 2., 2., 0., 0., 0., 2., 7., 0., 0.,\n",
              "       0., 0., 7., 0., 0., 0., 7., 0., 0., 7., 2., 0., 7., 2., 2., 2., 7.,\n",
              "       2., 7., 2., 0., 7., 0., 7., 0., 7., 2., 2., 7., 0., 2., 7., 0., 7.,\n",
              "       0., 7., 0., 7., 0., 7., 2., 2., 2., 2., 0., 0., 0., 7., 7., 2., 0.,\n",
              "       7., 0., 0., 2., 2., 7., 7., 2., 7., 7., 0., 2., 0., 0., 7.])"
            ]
          },
          "metadata": {},
          "execution_count": 200
        }
      ]
    },
    {
      "cell_type": "code",
      "metadata": {
        "colab": {
          "base_uri": "https://localhost:8080/"
        },
        "id": "EThCToxsT06w",
        "outputId": "f789d6f5-3691-4db0-df7b-49a77495d183"
      },
      "source": [
        "# using validation: y_val\n",
        "print(\"Accuracy=\", accuracy_score(np.array(classes)[y_pred_Bayesian], y_val))"
      ],
      "execution_count": 201,
      "outputs": [
        {
          "output_type": "stream",
          "name": "stdout",
          "text": [
            "Accuracy= 0.9788888888888889\n"
          ]
        }
      ]
    },
    {
      "cell_type": "markdown",
      "metadata": {
        "id": "fsM1A801UsiK"
      },
      "source": [
        "## Selecting different instances\n"
      ]
    },
    {
      "cell_type": "code",
      "metadata": {
        "id": "jL_D_R_4UkeB"
      },
      "source": [
        "y_predB=[]\n",
        "\n",
        "for i in range(X_val.shape[0]):\n",
        "    #print(i)\n",
        "    val=[]\n",
        "\n",
        "    for s in range(posterior['beta'].shape[0]):\n",
        "        beta = np.hstack([np.zeros((nf,1)),  posterior['beta'][s,:] ])\n",
        "        alpha = np.hstack([[0],  posterior['alpha'][s,:] ])\n",
        "        val.append(softmax((np.array([X_val[i,:].dot(beta) + alpha])))[0,:])\n",
        "\n",
        "    #mean probability\n",
        "    valmean = np.mean(val,axis=0)\n",
        "    #class with maximum mean probability\n",
        "    classmax = np.argmax(valmean)\n",
        "    #ranks\n",
        "    ranks = np.array(val.copy())\n",
        "    ranks   = ranks  *0 #init\n",
        "    colmax = np.argmax(np.array(val),axis=1)\n",
        "    ranks[np.arange(0,len(colmax)),colmax]=1\n",
        "     \n",
        "    y_predB.append( [classmax, valmean[classmax], np.std(ranks,axis=0)[classmax]])\n",
        "\n",
        "    \n",
        "y_predB= np.array(y_predB)"
      ],
      "execution_count": 202,
      "outputs": []
    },
    {
      "cell_type": "code",
      "metadata": {
        "colab": {
          "base_uri": "https://localhost:8080/"
        },
        "id": "fkAfB025U7jF",
        "outputId": "5382c347-ffea-4636-9f56-e6747e9ae9c9"
      },
      "source": [
        "# prediction array\n",
        "mm = 10\n",
        "y_predB[0:mm,:]"
      ],
      "execution_count": 203,
      "outputs": [
        {
          "output_type": "execute_result",
          "data": {
            "text/plain": [
              "array([[0.        , 0.99999825, 0.        ],\n",
              "       [1.        , 1.        , 0.        ],\n",
              "       [1.        , 0.99907174, 0.        ],\n",
              "       [1.        , 0.99999975, 0.        ],\n",
              "       [1.        , 0.99999988, 0.        ],\n",
              "       [0.        , 0.85913242, 0.34349511],\n",
              "       [0.        , 0.99911814, 0.        ],\n",
              "       [0.        , 0.99975792, 0.        ],\n",
              "       [0.        , 0.97726936, 0.14      ],\n",
              "       [0.        , 0.97159178, 0.15095989]])"
            ]
          },
          "metadata": {},
          "execution_count": 203
        }
      ]
    },
    {
      "cell_type": "code",
      "metadata": {
        "colab": {
          "base_uri": "https://localhost:8080/"
        },
        "id": "_cuecC3jU-p6",
        "outputId": "a400d153-66f7-431b-db70-52556f0aba70"
      },
      "source": [
        "#sorting in descending order\n",
        "difficult = np.argsort(-y_predB[:,2])\n",
        "y_predB[difficult[0:mm],:]"
      ],
      "execution_count": 204,
      "outputs": [
        {
          "output_type": "execute_result",
          "data": {
            "text/plain": [
              "array([[1.        , 0.50949123, 0.49998889],\n",
              "       [1.        , 0.5143752 , 0.49989999],\n",
              "       [0.        , 0.50328534, 0.49982219],\n",
              "       [0.        , 0.52163751, 0.49972215],\n",
              "       [0.        , 0.51931944, 0.49945526],\n",
              "       [1.        , 0.46220284, 0.49909919],\n",
              "       [2.        , 0.53399031, 0.49888765],\n",
              "       [2.        , 0.54325015, 0.49714742],\n",
              "       [1.        , 0.5492665 , 0.49677851],\n",
              "       [0.        , 0.56447688, 0.49553562]])"
            ]
          },
          "metadata": {},
          "execution_count": 204
        }
      ]
    },
    {
      "cell_type": "code",
      "metadata": {
        "colab": {
          "base_uri": "https://localhost:8080/"
        },
        "id": "4iar7tlUVAkg",
        "outputId": "cfaeddab-bccd-4c52-f6d8-0a6c1c0322b9"
      },
      "source": [
        "y_predB[y_pred_log != y_val,:]"
      ],
      "execution_count": 205,
      "outputs": [
        {
          "output_type": "execute_result",
          "data": {
            "text/plain": [
              "array([[1.        , 0.5143752 , 0.49989999],\n",
              "       [0.        , 0.63611326, 0.47590849],\n",
              "       [0.        , 0.70613482, 0.45061686],\n",
              "       [0.        , 0.82876424, 0.35707142],\n",
              "       [2.        , 0.87557521, 0.29550334],\n",
              "       [1.        , 0.80628376, 0.37853519],\n",
              "       [1.        , 0.99001494, 0.09949874],\n",
              "       [1.        , 0.97331484, 0.15095989],\n",
              "       [0.        , 0.66397129, 0.47256981],\n",
              "       [1.        , 0.84488047, 0.35377331],\n",
              "       [2.        , 0.98105846, 0.1280191 ],\n",
              "       [0.        , 0.72122925, 0.43679387],\n",
              "       [1.        , 0.82606809, 0.3756328 ],\n",
              "       [1.        , 0.90924247, 0.28134597],\n",
              "       [1.        , 0.60423804, 0.48774994],\n",
              "       [2.        , 0.76340006, 0.4142463 ],\n",
              "       [1.        , 0.5492665 , 0.49677851],\n",
              "       [2.        , 0.53399031, 0.49888765],\n",
              "       [2.        , 0.75056019, 0.42708313],\n",
              "       [2.        , 0.97035443, 0.14      ],\n",
              "       [1.        , 0.38113828, 0.48774994],\n",
              "       [0.        , 0.52163751, 0.49972215],\n",
              "       [1.        , 0.57812819, 0.49459299],\n",
              "       [2.        , 0.73397761, 0.43863424],\n",
              "       [0.        , 0.56447688, 0.49553562],\n",
              "       [1.        , 0.62700938, 0.47901519],\n",
              "       [1.        , 0.61888038, 0.48095969]])"
            ]
          },
          "metadata": {},
          "execution_count": 205
        }
      ]
    },
    {
      "cell_type": "code",
      "metadata": {
        "colab": {
          "base_uri": "https://localhost:8080/"
        },
        "id": "W5V6p93HVGBd",
        "outputId": "a59b5f87-eee4-40a1-c7ba-0153825a32a4"
      },
      "source": [
        "## Difficult & easy instances\n",
        "\n",
        "easy = np.argsort(y_predB[:,2])\n",
        "print(\"Accuracy in easy instances =\", accuracy_score(y_pred_log[easy[0:100]], y_val[easy[0:100]]))\n",
        "\n",
        "difficult = np.argsort(-y_predB[:,2])\n",
        "print(\"Accuracy in difficult instances =\", accuracy_score(y_pred_log[difficult[0:100]], y_val[difficult[0:100]]))"
      ],
      "execution_count": 206,
      "outputs": [
        {
          "output_type": "stream",
          "name": "stdout",
          "text": [
            "Accuracy in easy instances = 1.0\n",
            "Accuracy in difficult instances = 0.77\n"
          ]
        }
      ]
    },
    {
      "cell_type": "code",
      "metadata": {
        "colab": {
          "base_uri": "https://localhost:8080/",
          "height": 357
        },
        "id": "vfFxBJo0VGpg",
        "outputId": "a048eaaa-a3d7-4b34-8d1b-de0e6ed01a58"
      },
      "source": [
        "# show 10 random 'easy' images\n",
        "fig, axs = plt.subplots(2,5, figsize=(15, 6))\n",
        "fig.subplots_adjust(hspace = .2, wspace=.001)\n",
        "axs = axs.ravel()\n",
        "\n",
        "for i in range(10):\n",
        "    index = easy[i]\n",
        "    image = X_val[index,:].reshape(28,28)\n",
        "    axs[i].axis('off')\n",
        "    axs[i].imshow(image,cmap=\"Greys_r\")\n",
        "    "
      ],
      "execution_count": 207,
      "outputs": [
        {
          "output_type": "display_data",
          "data": {
            "image/png": "[encoded data removed]",
            "text/plain": [
              "<Figure size 1080x432 with 10 Axes>"
            ]
          },
          "metadata": {
            "needs_background": "light"
          }
        }
      ]
    },
    {
      "cell_type": "code",
      "metadata": {
        "colab": {
          "base_uri": "https://localhost:8080/",
          "height": 357
        },
        "id": "IUmmyWfKVK0g",
        "outputId": "73917b62-a933-426a-f7d7-a78c42c536d7"
      },
      "source": [
        "# show 10 random 'difficult' images\n",
        "fig, axs = plt.subplots(2,5, figsize=(15, 6))\n",
        "fig.subplots_adjust(hspace = .2, wspace=.001)\n",
        "axs = axs.ravel()\n",
        "for i in range(10):\n",
        "    index = difficult[i]\n",
        "    image = X_val[index,:].reshape(28,28)\n",
        "    axs[i].axis('off')\n",
        "    axs[i].imshow(image,cmap=\"Greys_r\")\n",
        "    "
      ],
      "execution_count": 208,
      "outputs": [
        {
          "output_type": "display_data",
          "data": {
            "image/png": "[encoded data removed]",
            "text/plain": [
              "<Figure size 1080x432 with 10 Axes>"
            ]
          },
          "metadata": {
            "needs_background": "light"
          }
        }
      ]
    },
    {
      "cell_type": "markdown",
      "metadata": {
        "id": "Ll8gRSzZTgDs"
      },
      "source": [
        ""
      ]
    },
    {
      "cell_type": "markdown",
      "metadata": {
        "id": "NcshsLOGRPrk"
      },
      "source": [
        "## Summary"
      ]
    },
    {
      "cell_type": "markdown",
      "metadata": {
        "id": "XTc4pYKGRR60"
      },
      "source": [
        "Populate this section with all of your findings and comments fron the discussion with your peers.\n",
        "\n",
        "\n",
        "\n",
        " **WIP**\n",
        "\n",
        "References:\n",
        "\n",
        "\n",
        "\n",
        "https://machinelearningmastery.com/roc-curves-and-precision-recall-curves-for-classification-in-python/ \n",
        "\n",
        "https://scikit-learn.org/stable/auto_examples/model_selection/plot_confusion_matrix.html\n",
        "\n",
        "https://stackoverflow.com/questions/39770376/scikit-learn-get-accuracy-scores-for-each-class"
      ]
    }
  ]
}